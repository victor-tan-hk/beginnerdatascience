{
 "cells": [
  {
   "cell_type": "code",
   "execution_count": 1,
   "id": "b819ad65",
   "metadata": {},
   "outputs": [
    {
     "name": "stdout",
     "output_type": "stream",
     "text": [
      "Hello World\n"
     ]
    }
   ],
   "source": [
    "print(\"Hello World\")"
   ]
  },
  {
   "cell_type": "code",
   "execution_count": 3,
   "id": "4919149e",
   "metadata": {},
   "outputs": [
    {
     "name": "stdout",
     "output_type": "stream",
     "text": [
      "Jupyter Notebook is for programming + note-taking\n",
      "2.5\n"
     ]
    }
   ],
   "source": [
    "print(\"Jupyter Notebook is for programming + note-taking\")\n",
    "ans = 1+2*3/4\n",
    "print(ans)"
   ]
  },
  {
   "cell_type": "code",
   "execution_count": 4,
   "id": "70e06b1b",
   "metadata": {},
   "outputs": [
    {
     "name": "stdout",
     "output_type": "stream",
     "text": [
      "(123, 45.6, 'abc', [1, 2, 3])\n"
     ]
    }
   ],
   "source": [
    "# Basic of Python\n",
    "# 1. variables\n",
    "# 2. input/output\n",
    "\n",
    "variables = 123, 45.6, 'abc', [1,2,3]\n",
    "print(variables)"
   ]
  },
  {
   "cell_type": "code",
   "execution_count": 6,
   "id": "fe06323d",
   "metadata": {},
   "outputs": [
    {
     "name": "stdout",
     "output_type": "stream",
     "text": [
      "finished\n",
      "[1, 4, 9, 16, 25]\n",
      "finished\n",
      "[16, 25]\n"
     ]
    }
   ],
   "source": [
    "# 3. loops\n",
    "# 4. Conditional statement\n",
    "a = [1,2,3,4,5]\n",
    "b = []\n",
    "for item in a:   # for-loop\n",
    "    b.append(item**2)   # indentation marks the begining of a loop\n",
    "print('finished')       # unindent marks the end of the block of code\n",
    "print(b)\n",
    "\n",
    "a = [1,2,3,4,5]\n",
    "b = []\n",
    "for item in a:\n",
    "    if item > 3:      # conditional statement\n",
    "        b.append(item**2)\n",
    "print('finished')\n",
    "print(b)"
   ]
  },
  {
   "cell_type": "code",
   "execution_count": 7,
   "id": "c0b9d87a",
   "metadata": {},
   "outputs": [
    {
     "name": "stdout",
     "output_type": "stream",
     "text": [
      "The square of 15 is 225\n",
      "[ 0.          0.84147098  0.90929743  0.14112001 -0.7568025 ]\n"
     ]
    }
   ],
   "source": [
    "# 5. functions\n",
    "# 6. modules\n",
    "\n",
    "def square(x):\n",
    "    return x*x\n",
    "print(f\"The square of 15 is {square(15)}\")\n",
    "\n",
    "import numpy as np\n",
    "x = [0, 1,2,3,4]\n",
    "y = np.sin(x)\n",
    "print(y)"
   ]
  },
  {
   "cell_type": "markdown",
   "id": "8aa8dfa1",
   "metadata": {},
   "source": [
    "# Markdown\n",
    "\n",
    "A Markdown cell is for note-taking. Markdown language has a *minimal* set of tools for formatting texts. For examples:\n",
    "\n",
    "- bullet point\n",
    "    - sub-bullet point\n",
    "- *italic*\n",
    "- **bold**\n",
    "- ~~strike-through~~ (use ~)\n",
    "- you can also use html tag: like <mark>highlight</mark>\n",
    "\n",
    "You can write codes formatted text in markdown:\n",
    "\n",
    "```python\n",
    "import numpy as np\n",
    "x = [1,2,3,4,5]\n",
    "y = np.sin(x)\n",
    "print(y)\n",
    "```\n",
    "\n",
    "You can add figures from internet or locally.\n",
    "\n",
    "![](cat.png)\n",
    "\n",
    "You can write mathematics formula, like for example\n",
    "\n",
    "- inline formula $y=\\beta_1 x_1 + \\beta_2 x_2 + \\dots + \\beta_n x_n$\n",
    "- \"paragraph\" formula \n",
    "   $$e^{i\\pi} + 1 = 0$$\n",
    "\n",
    "You can create hyperlink, like this [guide](https://www.markdownguide.org/basic-syntax/) to markdown."
   ]
  },
  {
   "cell_type": "markdown",
   "id": "59163b33",
   "metadata": {},
   "source": [
    "# Using Jupyter Effectively\n",
    "\n",
    "There are two modes for each cell:\n",
    "\n",
    "- Command/Navigation mode (Blue)\n",
    "    - press `Esc`\n",
    "- Edit mode (Green)\n",
    "    - press `Enter`\n",
    "\n",
    "Some shortcuts:\n",
    "\n",
    "- `Shift-Enter` to execute the current cell and move to the next cell\n",
    "- `Ctrl-Enter` to execute the current cell and stay in the same cell\n",
    "- `a` add a new cell above (command mode)\n",
    "- `b` add a new cell below (cammand mode)\n",
    "- `dd` delete the current cell (command mode)\n",
    "- `y` convert current cell to a code cell\n",
    "- `m` convert current cell to a markdown cell"
   ]
  },
  {
   "cell_type": "code",
   "execution_count": null,
   "id": "284d64ce",
   "metadata": {},
   "outputs": [],
   "source": []
  }
 ],
 "metadata": {
  "kernelspec": {
   "display_name": "Python 3 (ipykernel)",
   "language": "python",
   "name": "python3"
  },
  "language_info": {
   "codemirror_mode": {
    "name": "ipython",
    "version": 3
   },
   "file_extension": ".py",
   "mimetype": "text/x-python",
   "name": "python",
   "nbconvert_exporter": "python",
   "pygments_lexer": "ipython3",
   "version": "3.10.9"
  }
 },
 "nbformat": 4,
 "nbformat_minor": 5
}
