{
 "cells": [
  {
   "cell_type": "code",
   "execution_count": 1,
   "id": "54db76ea",
   "metadata": {},
   "outputs": [],
   "source": [
    "import pandas as pd"
   ]
  },
  {
   "cell_type": "markdown",
   "id": "634f6e1a",
   "metadata": {},
   "source": [
    "# Loading dataframe\n",
    "\n",
    "- Jupyter notebook is more friendly to pandas"
   ]
  },
  {
   "cell_type": "code",
   "execution_count": 2,
   "id": "79994800",
   "metadata": {
    "collapsed": true
   },
   "outputs": [
    {
     "data": {
      "text/html": [
       "<div>\n",
       "<style scoped>\n",
       "    .dataframe tbody tr th:only-of-type {\n",
       "        vertical-align: middle;\n",
       "    }\n",
       "\n",
       "    .dataframe tbody tr th {\n",
       "        vertical-align: top;\n",
       "    }\n",
       "\n",
       "    .dataframe thead th {\n",
       "        text-align: right;\n",
       "    }\n",
       "</style>\n",
       "<table border=\"1\" class=\"dataframe\">\n",
       "  <thead>\n",
       "    <tr style=\"text-align: right;\">\n",
       "      <th></th>\n",
       "      <th>0</th>\n",
       "      <th>1</th>\n",
       "      <th>2</th>\n",
       "      <th>3</th>\n",
       "    </tr>\n",
       "  </thead>\n",
       "  <tbody>\n",
       "    <tr>\n",
       "      <th>0</th>\n",
       "      <td>1</td>\n",
       "      <td>2</td>\n",
       "      <td>3</td>\n",
       "      <td>4</td>\n",
       "    </tr>\n",
       "    <tr>\n",
       "      <th>1</th>\n",
       "      <td>4</td>\n",
       "      <td>5</td>\n",
       "      <td>6</td>\n",
       "      <td>7</td>\n",
       "    </tr>\n",
       "  </tbody>\n",
       "</table>\n",
       "</div>"
      ],
      "text/plain": [
       "   0  1  2  3\n",
       "0  1  2  3  4\n",
       "1  4  5  6  7"
      ]
     },
     "execution_count": 2,
     "metadata": {},
     "output_type": "execute_result"
    }
   ],
   "source": [
    "data = [\n",
    "    [1,2,3,4],\n",
    "    [4,5,6,7]\n",
    "]\n",
    "data = pd.DataFrame(data)\n",
    "data"
   ]
  },
  {
   "cell_type": "code",
   "execution_count": 4,
   "id": "a8e0f386",
   "metadata": {
    "collapsed": true
   },
   "outputs": [
    {
     "data": {
      "text/html": [
       "<div>\n",
       "<style scoped>\n",
       "    .dataframe tbody tr th:only-of-type {\n",
       "        vertical-align: middle;\n",
       "    }\n",
       "\n",
       "    .dataframe tbody tr th {\n",
       "        vertical-align: top;\n",
       "    }\n",
       "\n",
       "    .dataframe thead th {\n",
       "        text-align: right;\n",
       "    }\n",
       "</style>\n",
       "<table border=\"1\" class=\"dataframe\">\n",
       "  <thead>\n",
       "    <tr style=\"text-align: right;\">\n",
       "      <th></th>\n",
       "      <th>x1</th>\n",
       "      <th>x2</th>\n",
       "      <th>x3</th>\n",
       "    </tr>\n",
       "  </thead>\n",
       "  <tbody>\n",
       "    <tr>\n",
       "      <th>0</th>\n",
       "      <td>1</td>\n",
       "      <td>2</td>\n",
       "      <td>4</td>\n",
       "    </tr>\n",
       "    <tr>\n",
       "      <th>1</th>\n",
       "      <td>2</td>\n",
       "      <td>3</td>\n",
       "      <td>5</td>\n",
       "    </tr>\n",
       "    <tr>\n",
       "      <th>2</th>\n",
       "      <td>3</td>\n",
       "      <td>4</td>\n",
       "      <td>6</td>\n",
       "    </tr>\n",
       "    <tr>\n",
       "      <th>3</th>\n",
       "      <td>4</td>\n",
       "      <td>5</td>\n",
       "      <td>7</td>\n",
       "    </tr>\n",
       "  </tbody>\n",
       "</table>\n",
       "</div>"
      ],
      "text/plain": [
       "   x1  x2  x3\n",
       "0   1   2   4\n",
       "1   2   3   5\n",
       "2   3   4   6\n",
       "3   4   5   7"
      ]
     },
     "execution_count": 4,
     "metadata": {},
     "output_type": "execute_result"
    }
   ],
   "source": [
    "data ={\n",
    "    'x1' : [1,2,3,4],\n",
    "    'x2' : [2,3,4,5],\n",
    "    'x3' : [4,5,6,7]\n",
    "}\n",
    "data = pd.DataFrame(data)\n",
    "data"
   ]
  },
  {
   "cell_type": "code",
   "execution_count": 5,
   "id": "5fab9644",
   "metadata": {
    "collapsed": true
   },
   "outputs": [
    {
     "data": {
      "text/html": [
       "<div>\n",
       "<style scoped>\n",
       "    .dataframe tbody tr th:only-of-type {\n",
       "        vertical-align: middle;\n",
       "    }\n",
       "\n",
       "    .dataframe tbody tr th {\n",
       "        vertical-align: top;\n",
       "    }\n",
       "\n",
       "    .dataframe thead th {\n",
       "        text-align: right;\n",
       "    }\n",
       "</style>\n",
       "<table border=\"1\" class=\"dataframe\">\n",
       "  <thead>\n",
       "    <tr style=\"text-align: right;\">\n",
       "      <th></th>\n",
       "      <th>Unnamed: 0</th>\n",
       "      <th>score_phrase</th>\n",
       "      <th>title</th>\n",
       "      <th>url</th>\n",
       "      <th>platform</th>\n",
       "      <th>score</th>\n",
       "      <th>genre</th>\n",
       "      <th>editors_choice</th>\n",
       "      <th>release_year</th>\n",
       "      <th>release_month</th>\n",
       "      <th>release_day</th>\n",
       "    </tr>\n",
       "  </thead>\n",
       "  <tbody>\n",
       "    <tr>\n",
       "      <th>0</th>\n",
       "      <td>0</td>\n",
       "      <td>Amazing</td>\n",
       "      <td>LittleBigPlanet PS Vita</td>\n",
       "      <td>/games/littlebigplanet-vita/vita-98907</td>\n",
       "      <td>PlayStation Vita</td>\n",
       "      <td>9.0</td>\n",
       "      <td>Platformer</td>\n",
       "      <td>Y</td>\n",
       "      <td>2012</td>\n",
       "      <td>9</td>\n",
       "      <td>12</td>\n",
       "    </tr>\n",
       "    <tr>\n",
       "      <th>1</th>\n",
       "      <td>1</td>\n",
       "      <td>Amazing</td>\n",
       "      <td>LittleBigPlanet PS Vita -- Marvel Super Hero E...</td>\n",
       "      <td>/games/littlebigplanet-ps-vita-marvel-super-he...</td>\n",
       "      <td>PlayStation Vita</td>\n",
       "      <td>9.0</td>\n",
       "      <td>Platformer</td>\n",
       "      <td>Y</td>\n",
       "      <td>2012</td>\n",
       "      <td>9</td>\n",
       "      <td>12</td>\n",
       "    </tr>\n",
       "    <tr>\n",
       "      <th>2</th>\n",
       "      <td>2</td>\n",
       "      <td>Great</td>\n",
       "      <td>Splice: Tree of Life</td>\n",
       "      <td>/games/splice/ipad-141070</td>\n",
       "      <td>iPad</td>\n",
       "      <td>8.5</td>\n",
       "      <td>Puzzle</td>\n",
       "      <td>N</td>\n",
       "      <td>2012</td>\n",
       "      <td>9</td>\n",
       "      <td>12</td>\n",
       "    </tr>\n",
       "    <tr>\n",
       "      <th>3</th>\n",
       "      <td>3</td>\n",
       "      <td>Great</td>\n",
       "      <td>NHL 13</td>\n",
       "      <td>/games/nhl-13/xbox-360-128182</td>\n",
       "      <td>Xbox 360</td>\n",
       "      <td>8.5</td>\n",
       "      <td>Sports</td>\n",
       "      <td>N</td>\n",
       "      <td>2012</td>\n",
       "      <td>9</td>\n",
       "      <td>11</td>\n",
       "    </tr>\n",
       "    <tr>\n",
       "      <th>4</th>\n",
       "      <td>4</td>\n",
       "      <td>Great</td>\n",
       "      <td>NHL 13</td>\n",
       "      <td>/games/nhl-13/ps3-128181</td>\n",
       "      <td>PlayStation 3</td>\n",
       "      <td>8.5</td>\n",
       "      <td>Sports</td>\n",
       "      <td>N</td>\n",
       "      <td>2012</td>\n",
       "      <td>9</td>\n",
       "      <td>11</td>\n",
       "    </tr>\n",
       "    <tr>\n",
       "      <th>...</th>\n",
       "      <td>...</td>\n",
       "      <td>...</td>\n",
       "      <td>...</td>\n",
       "      <td>...</td>\n",
       "      <td>...</td>\n",
       "      <td>...</td>\n",
       "      <td>...</td>\n",
       "      <td>...</td>\n",
       "      <td>...</td>\n",
       "      <td>...</td>\n",
       "      <td>...</td>\n",
       "    </tr>\n",
       "    <tr>\n",
       "      <th>18620</th>\n",
       "      <td>18620</td>\n",
       "      <td>Good</td>\n",
       "      <td>Tokyo Mirage Sessions #FE</td>\n",
       "      <td>/games/fire-emblem-x-shin-megami-tensei/wii-u-...</td>\n",
       "      <td>Wii U</td>\n",
       "      <td>7.6</td>\n",
       "      <td>RPG</td>\n",
       "      <td>N</td>\n",
       "      <td>2016</td>\n",
       "      <td>6</td>\n",
       "      <td>29</td>\n",
       "    </tr>\n",
       "    <tr>\n",
       "      <th>18621</th>\n",
       "      <td>18621</td>\n",
       "      <td>Amazing</td>\n",
       "      <td>LEGO Star Wars: The Force Awakens</td>\n",
       "      <td>/games/lego-star-wars-the-force-awakens/ps4-20...</td>\n",
       "      <td>PlayStation 4</td>\n",
       "      <td>9.0</td>\n",
       "      <td>Action, Adventure</td>\n",
       "      <td>Y</td>\n",
       "      <td>2016</td>\n",
       "      <td>6</td>\n",
       "      <td>29</td>\n",
       "    </tr>\n",
       "    <tr>\n",
       "      <th>18622</th>\n",
       "      <td>18622</td>\n",
       "      <td>Mediocre</td>\n",
       "      <td>Star Ocean: Integrity and Faithlessness</td>\n",
       "      <td>/games/star-ocean-5/ps4-20035681</td>\n",
       "      <td>PlayStation 4</td>\n",
       "      <td>5.8</td>\n",
       "      <td>RPG</td>\n",
       "      <td>N</td>\n",
       "      <td>2016</td>\n",
       "      <td>6</td>\n",
       "      <td>28</td>\n",
       "    </tr>\n",
       "    <tr>\n",
       "      <th>18623</th>\n",
       "      <td>18623</td>\n",
       "      <td>Masterpiece</td>\n",
       "      <td>Inside</td>\n",
       "      <td>/games/inside-playdead/xbox-one-121435</td>\n",
       "      <td>Xbox One</td>\n",
       "      <td>10.0</td>\n",
       "      <td>Adventure</td>\n",
       "      <td>Y</td>\n",
       "      <td>2016</td>\n",
       "      <td>6</td>\n",
       "      <td>28</td>\n",
       "    </tr>\n",
       "    <tr>\n",
       "      <th>18624</th>\n",
       "      <td>18624</td>\n",
       "      <td>Masterpiece</td>\n",
       "      <td>Inside</td>\n",
       "      <td>/games/inside-playdead/pc-20055740</td>\n",
       "      <td>PC</td>\n",
       "      <td>10.0</td>\n",
       "      <td>Adventure</td>\n",
       "      <td>Y</td>\n",
       "      <td>2016</td>\n",
       "      <td>6</td>\n",
       "      <td>28</td>\n",
       "    </tr>\n",
       "  </tbody>\n",
       "</table>\n",
       "<p>18625 rows × 11 columns</p>\n",
       "</div>"
      ],
      "text/plain": [
       "       Unnamed: 0 score_phrase  \\\n",
       "0               0      Amazing   \n",
       "1               1      Amazing   \n",
       "2               2        Great   \n",
       "3               3        Great   \n",
       "4               4        Great   \n",
       "...           ...          ...   \n",
       "18620       18620         Good   \n",
       "18621       18621      Amazing   \n",
       "18622       18622     Mediocre   \n",
       "18623       18623  Masterpiece   \n",
       "18624       18624  Masterpiece   \n",
       "\n",
       "                                                   title  \\\n",
       "0                                LittleBigPlanet PS Vita   \n",
       "1      LittleBigPlanet PS Vita -- Marvel Super Hero E...   \n",
       "2                                   Splice: Tree of Life   \n",
       "3                                                 NHL 13   \n",
       "4                                                 NHL 13   \n",
       "...                                                  ...   \n",
       "18620                          Tokyo Mirage Sessions #FE   \n",
       "18621                  LEGO Star Wars: The Force Awakens   \n",
       "18622            Star Ocean: Integrity and Faithlessness   \n",
       "18623                                             Inside   \n",
       "18624                                             Inside   \n",
       "\n",
       "                                                     url          platform  \\\n",
       "0                 /games/littlebigplanet-vita/vita-98907  PlayStation Vita   \n",
       "1      /games/littlebigplanet-ps-vita-marvel-super-he...  PlayStation Vita   \n",
       "2                              /games/splice/ipad-141070              iPad   \n",
       "3                          /games/nhl-13/xbox-360-128182          Xbox 360   \n",
       "4                               /games/nhl-13/ps3-128181     PlayStation 3   \n",
       "...                                                  ...               ...   \n",
       "18620  /games/fire-emblem-x-shin-megami-tensei/wii-u-...             Wii U   \n",
       "18621  /games/lego-star-wars-the-force-awakens/ps4-20...     PlayStation 4   \n",
       "18622                   /games/star-ocean-5/ps4-20035681     PlayStation 4   \n",
       "18623             /games/inside-playdead/xbox-one-121435          Xbox One   \n",
       "18624                 /games/inside-playdead/pc-20055740                PC   \n",
       "\n",
       "       score              genre editors_choice  release_year  release_month  \\\n",
       "0        9.0         Platformer              Y          2012              9   \n",
       "1        9.0         Platformer              Y          2012              9   \n",
       "2        8.5             Puzzle              N          2012              9   \n",
       "3        8.5             Sports              N          2012              9   \n",
       "4        8.5             Sports              N          2012              9   \n",
       "...      ...                ...            ...           ...            ...   \n",
       "18620    7.6                RPG              N          2016              6   \n",
       "18621    9.0  Action, Adventure              Y          2016              6   \n",
       "18622    5.8                RPG              N          2016              6   \n",
       "18623   10.0          Adventure              Y          2016              6   \n",
       "18624   10.0          Adventure              Y          2016              6   \n",
       "\n",
       "       release_day  \n",
       "0               12  \n",
       "1               12  \n",
       "2               12  \n",
       "3               11  \n",
       "4               11  \n",
       "...            ...  \n",
       "18620           29  \n",
       "18621           29  \n",
       "18622           28  \n",
       "18623           28  \n",
       "18624           28  \n",
       "\n",
       "[18625 rows x 11 columns]"
      ]
     },
     "execution_count": 5,
     "metadata": {},
     "output_type": "execute_result"
    }
   ],
   "source": [
    "fname = 'data/ign.csv'\n",
    "ign = pd.read_csv(fname)\n",
    "ign"
   ]
  },
  {
   "cell_type": "markdown",
   "id": "9dacadf7",
   "metadata": {},
   "source": [
    "# Basic on Pandas\n",
    "\n",
    "- basic information\n",
    "- pick a column from the dataframe"
   ]
  },
  {
   "cell_type": "code",
   "execution_count": 7,
   "id": "3bd754f4",
   "metadata": {
    "collapsed": true
   },
   "outputs": [
    {
     "name": "stdout",
     "output_type": "stream",
     "text": [
      "<class 'pandas.core.frame.DataFrame'>\n",
      "RangeIndex: 4 entries, 0 to 3\n",
      "Data columns (total 3 columns):\n",
      " #   Column  Non-Null Count  Dtype\n",
      "---  ------  --------------  -----\n",
      " 0   x1      4 non-null      int64\n",
      " 1   x2      4 non-null      int64\n",
      " 2   x3      4 non-null      int64\n",
      "dtypes: int64(3)\n",
      "memory usage: 224.0 bytes\n"
     ]
    }
   ],
   "source": [
    "data.info()"
   ]
  },
  {
   "cell_type": "code",
   "execution_count": 8,
   "id": "efbbeb11",
   "metadata": {
    "collapsed": true
   },
   "outputs": [
    {
     "name": "stdout",
     "output_type": "stream",
     "text": [
      "<class 'pandas.core.frame.DataFrame'>\n",
      "RangeIndex: 18625 entries, 0 to 18624\n",
      "Data columns (total 11 columns):\n",
      " #   Column          Non-Null Count  Dtype  \n",
      "---  ------          --------------  -----  \n",
      " 0   Unnamed: 0      18625 non-null  int64  \n",
      " 1   score_phrase    18625 non-null  object \n",
      " 2   title           18625 non-null  object \n",
      " 3   url             18625 non-null  object \n",
      " 4   platform        18625 non-null  object \n",
      " 5   score           18625 non-null  float64\n",
      " 6   genre           18589 non-null  object \n",
      " 7   editors_choice  18625 non-null  object \n",
      " 8   release_year    18625 non-null  int64  \n",
      " 9   release_month   18625 non-null  int64  \n",
      " 10  release_day     18625 non-null  int64  \n",
      "dtypes: float64(1), int64(4), object(6)\n",
      "memory usage: 1.6+ MB\n"
     ]
    }
   ],
   "source": [
    "ign.info()"
   ]
  },
  {
   "cell_type": "code",
   "execution_count": 11,
   "id": "3bab8bfc",
   "metadata": {
    "collapsed": true
   },
   "outputs": [
    {
     "data": {
      "text/html": [
       "<div>\n",
       "<style scoped>\n",
       "    .dataframe tbody tr th:only-of-type {\n",
       "        vertical-align: middle;\n",
       "    }\n",
       "\n",
       "    .dataframe tbody tr th {\n",
       "        vertical-align: top;\n",
       "    }\n",
       "\n",
       "    .dataframe thead th {\n",
       "        text-align: right;\n",
       "    }\n",
       "</style>\n",
       "<table border=\"1\" class=\"dataframe\">\n",
       "  <thead>\n",
       "    <tr style=\"text-align: right;\">\n",
       "      <th></th>\n",
       "      <th>0</th>\n",
       "      <th>1</th>\n",
       "      <th>2</th>\n",
       "      <th>3</th>\n",
       "      <th>4</th>\n",
       "      <th>5</th>\n",
       "      <th>6</th>\n",
       "      <th>7</th>\n",
       "      <th>8</th>\n",
       "      <th>9</th>\n",
       "      <th>10</th>\n",
       "      <th>11</th>\n",
       "      <th>12</th>\n",
       "      <th>13</th>\n",
       "    </tr>\n",
       "  </thead>\n",
       "  <tbody>\n",
       "    <tr>\n",
       "      <th>0</th>\n",
       "      <td>63.0</td>\n",
       "      <td>1.0</td>\n",
       "      <td>1.0</td>\n",
       "      <td>145.0</td>\n",
       "      <td>233.0</td>\n",
       "      <td>1.0</td>\n",
       "      <td>2.0</td>\n",
       "      <td>150.0</td>\n",
       "      <td>0.0</td>\n",
       "      <td>2.3</td>\n",
       "      <td>3.0</td>\n",
       "      <td>0.0</td>\n",
       "      <td>6.0</td>\n",
       "      <td>0</td>\n",
       "    </tr>\n",
       "    <tr>\n",
       "      <th>1</th>\n",
       "      <td>67.0</td>\n",
       "      <td>1.0</td>\n",
       "      <td>4.0</td>\n",
       "      <td>160.0</td>\n",
       "      <td>286.0</td>\n",
       "      <td>0.0</td>\n",
       "      <td>2.0</td>\n",
       "      <td>108.0</td>\n",
       "      <td>1.0</td>\n",
       "      <td>1.5</td>\n",
       "      <td>2.0</td>\n",
       "      <td>3.0</td>\n",
       "      <td>3.0</td>\n",
       "      <td>2</td>\n",
       "    </tr>\n",
       "    <tr>\n",
       "      <th>2</th>\n",
       "      <td>67.0</td>\n",
       "      <td>1.0</td>\n",
       "      <td>4.0</td>\n",
       "      <td>120.0</td>\n",
       "      <td>229.0</td>\n",
       "      <td>0.0</td>\n",
       "      <td>2.0</td>\n",
       "      <td>129.0</td>\n",
       "      <td>1.0</td>\n",
       "      <td>2.6</td>\n",
       "      <td>2.0</td>\n",
       "      <td>2.0</td>\n",
       "      <td>7.0</td>\n",
       "      <td>1</td>\n",
       "    </tr>\n",
       "    <tr>\n",
       "      <th>3</th>\n",
       "      <td>37.0</td>\n",
       "      <td>1.0</td>\n",
       "      <td>3.0</td>\n",
       "      <td>130.0</td>\n",
       "      <td>250.0</td>\n",
       "      <td>0.0</td>\n",
       "      <td>0.0</td>\n",
       "      <td>187.0</td>\n",
       "      <td>0.0</td>\n",
       "      <td>3.5</td>\n",
       "      <td>3.0</td>\n",
       "      <td>0.0</td>\n",
       "      <td>3.0</td>\n",
       "      <td>0</td>\n",
       "    </tr>\n",
       "    <tr>\n",
       "      <th>4</th>\n",
       "      <td>41.0</td>\n",
       "      <td>0.0</td>\n",
       "      <td>2.0</td>\n",
       "      <td>130.0</td>\n",
       "      <td>204.0</td>\n",
       "      <td>0.0</td>\n",
       "      <td>2.0</td>\n",
       "      <td>172.0</td>\n",
       "      <td>0.0</td>\n",
       "      <td>1.4</td>\n",
       "      <td>1.0</td>\n",
       "      <td>0.0</td>\n",
       "      <td>3.0</td>\n",
       "      <td>0</td>\n",
       "    </tr>\n",
       "    <tr>\n",
       "      <th>...</th>\n",
       "      <td>...</td>\n",
       "      <td>...</td>\n",
       "      <td>...</td>\n",
       "      <td>...</td>\n",
       "      <td>...</td>\n",
       "      <td>...</td>\n",
       "      <td>...</td>\n",
       "      <td>...</td>\n",
       "      <td>...</td>\n",
       "      <td>...</td>\n",
       "      <td>...</td>\n",
       "      <td>...</td>\n",
       "      <td>...</td>\n",
       "      <td>...</td>\n",
       "    </tr>\n",
       "    <tr>\n",
       "      <th>298</th>\n",
       "      <td>45.0</td>\n",
       "      <td>1.0</td>\n",
       "      <td>1.0</td>\n",
       "      <td>110.0</td>\n",
       "      <td>264.0</td>\n",
       "      <td>0.0</td>\n",
       "      <td>0.0</td>\n",
       "      <td>132.0</td>\n",
       "      <td>0.0</td>\n",
       "      <td>1.2</td>\n",
       "      <td>2.0</td>\n",
       "      <td>0.0</td>\n",
       "      <td>7.0</td>\n",
       "      <td>1</td>\n",
       "    </tr>\n",
       "    <tr>\n",
       "      <th>299</th>\n",
       "      <td>68.0</td>\n",
       "      <td>1.0</td>\n",
       "      <td>4.0</td>\n",
       "      <td>144.0</td>\n",
       "      <td>193.0</td>\n",
       "      <td>1.0</td>\n",
       "      <td>0.0</td>\n",
       "      <td>141.0</td>\n",
       "      <td>0.0</td>\n",
       "      <td>3.4</td>\n",
       "      <td>2.0</td>\n",
       "      <td>2.0</td>\n",
       "      <td>7.0</td>\n",
       "      <td>2</td>\n",
       "    </tr>\n",
       "    <tr>\n",
       "      <th>300</th>\n",
       "      <td>57.0</td>\n",
       "      <td>1.0</td>\n",
       "      <td>4.0</td>\n",
       "      <td>130.0</td>\n",
       "      <td>131.0</td>\n",
       "      <td>0.0</td>\n",
       "      <td>0.0</td>\n",
       "      <td>115.0</td>\n",
       "      <td>1.0</td>\n",
       "      <td>1.2</td>\n",
       "      <td>2.0</td>\n",
       "      <td>1.0</td>\n",
       "      <td>7.0</td>\n",
       "      <td>3</td>\n",
       "    </tr>\n",
       "    <tr>\n",
       "      <th>301</th>\n",
       "      <td>57.0</td>\n",
       "      <td>0.0</td>\n",
       "      <td>2.0</td>\n",
       "      <td>130.0</td>\n",
       "      <td>236.0</td>\n",
       "      <td>0.0</td>\n",
       "      <td>2.0</td>\n",
       "      <td>174.0</td>\n",
       "      <td>0.0</td>\n",
       "      <td>0.0</td>\n",
       "      <td>2.0</td>\n",
       "      <td>1.0</td>\n",
       "      <td>3.0</td>\n",
       "      <td>1</td>\n",
       "    </tr>\n",
       "    <tr>\n",
       "      <th>302</th>\n",
       "      <td>38.0</td>\n",
       "      <td>1.0</td>\n",
       "      <td>3.0</td>\n",
       "      <td>138.0</td>\n",
       "      <td>175.0</td>\n",
       "      <td>0.0</td>\n",
       "      <td>0.0</td>\n",
       "      <td>173.0</td>\n",
       "      <td>0.0</td>\n",
       "      <td>0.0</td>\n",
       "      <td>1.0</td>\n",
       "      <td>?</td>\n",
       "      <td>3.0</td>\n",
       "      <td>0</td>\n",
       "    </tr>\n",
       "  </tbody>\n",
       "</table>\n",
       "<p>303 rows × 14 columns</p>\n",
       "</div>"
      ],
      "text/plain": [
       "       0    1    2      3      4    5    6      7    8    9    10   11   12  \\\n",
       "0    63.0  1.0  1.0  145.0  233.0  1.0  2.0  150.0  0.0  2.3  3.0  0.0  6.0   \n",
       "1    67.0  1.0  4.0  160.0  286.0  0.0  2.0  108.0  1.0  1.5  2.0  3.0  3.0   \n",
       "2    67.0  1.0  4.0  120.0  229.0  0.0  2.0  129.0  1.0  2.6  2.0  2.0  7.0   \n",
       "3    37.0  1.0  3.0  130.0  250.0  0.0  0.0  187.0  0.0  3.5  3.0  0.0  3.0   \n",
       "4    41.0  0.0  2.0  130.0  204.0  0.0  2.0  172.0  0.0  1.4  1.0  0.0  3.0   \n",
       "..    ...  ...  ...    ...    ...  ...  ...    ...  ...  ...  ...  ...  ...   \n",
       "298  45.0  1.0  1.0  110.0  264.0  0.0  0.0  132.0  0.0  1.2  2.0  0.0  7.0   \n",
       "299  68.0  1.0  4.0  144.0  193.0  1.0  0.0  141.0  0.0  3.4  2.0  2.0  7.0   \n",
       "300  57.0  1.0  4.0  130.0  131.0  0.0  0.0  115.0  1.0  1.2  2.0  1.0  7.0   \n",
       "301  57.0  0.0  2.0  130.0  236.0  0.0  2.0  174.0  0.0  0.0  2.0  1.0  3.0   \n",
       "302  38.0  1.0  3.0  138.0  175.0  0.0  0.0  173.0  0.0  0.0  1.0    ?  3.0   \n",
       "\n",
       "     13  \n",
       "0     0  \n",
       "1     2  \n",
       "2     1  \n",
       "3     0  \n",
       "4     0  \n",
       "..   ..  \n",
       "298   1  \n",
       "299   2  \n",
       "300   3  \n",
       "301   1  \n",
       "302   0  \n",
       "\n",
       "[303 rows x 14 columns]"
      ]
     },
     "execution_count": 11,
     "metadata": {},
     "output_type": "execute_result"
    }
   ],
   "source": [
    "heart = pd.read_csv('processed.cleveland.data', header=None)\n",
    "heart"
   ]
  },
  {
   "cell_type": "code",
   "execution_count": 13,
   "id": "ae86fd43",
   "metadata": {
    "collapsed": true
   },
   "outputs": [
    {
     "name": "stdout",
     "output_type": "stream",
     "text": [
      "<class 'pandas.core.frame.DataFrame'>\n",
      "RangeIndex: 303 entries, 0 to 302\n",
      "Data columns (total 14 columns):\n",
      " #   Column  Non-Null Count  Dtype  \n",
      "---  ------  --------------  -----  \n",
      " 0   0       303 non-null    float64\n",
      " 1   1       303 non-null    float64\n",
      " 2   2       303 non-null    float64\n",
      " 3   3       303 non-null    float64\n",
      " 4   4       303 non-null    float64\n",
      " 5   5       303 non-null    float64\n",
      " 6   6       303 non-null    float64\n",
      " 7   7       303 non-null    float64\n",
      " 8   8       303 non-null    float64\n",
      " 9   9       303 non-null    float64\n",
      " 10  10      303 non-null    float64\n",
      " 11  11      303 non-null    object \n",
      " 12  12      303 non-null    object \n",
      " 13  13      303 non-null    int64  \n",
      "dtypes: float64(11), int64(1), object(2)\n",
      "memory usage: 33.3+ KB\n"
     ]
    }
   ],
   "source": [
    "heart.info()"
   ]
  },
  {
   "cell_type": "code",
   "execution_count": 15,
   "id": "c71ae766",
   "metadata": {
    "collapsed": true
   },
   "outputs": [
    {
     "name": "stdout",
     "output_type": "stream",
     "text": [
      "<class 'pandas.core.frame.DataFrame'>\n",
      "RangeIndex: 4 entries, 0 to 3\n",
      "Data columns (total 3 columns):\n",
      " #   Column  Non-Null Count  Dtype  \n",
      "---  ------  --------------  -----  \n",
      " 0   x1      4 non-null      int64  \n",
      " 1   x2      3 non-null      float64\n",
      " 2   x3      4 non-null      int64  \n",
      "dtypes: float64(1), int64(2)\n",
      "memory usage: 224.0 bytes\n"
     ]
    }
   ],
   "source": [
    "data ={\n",
    "    'x1' : [1,2,3,4],\n",
    "    'x2' : [2,3,None,5],\n",
    "    'x3' : [4,5,6,7]\n",
    "}\n",
    "data = pd.DataFrame(data)\n",
    "data.info()"
   ]
  },
  {
   "cell_type": "code",
   "execution_count": 19,
   "id": "23d15ee5",
   "metadata": {
    "collapsed": true
   },
   "outputs": [
    {
     "data": {
      "text/html": [
       "<div>\n",
       "<style scoped>\n",
       "    .dataframe tbody tr th:only-of-type {\n",
       "        vertical-align: middle;\n",
       "    }\n",
       "\n",
       "    .dataframe tbody tr th {\n",
       "        vertical-align: top;\n",
       "    }\n",
       "\n",
       "    .dataframe thead th {\n",
       "        text-align: right;\n",
       "    }\n",
       "</style>\n",
       "<table border=\"1\" class=\"dataframe\">\n",
       "  <thead>\n",
       "    <tr style=\"text-align: right;\">\n",
       "      <th></th>\n",
       "      <th>0</th>\n",
       "      <th>1</th>\n",
       "      <th>2</th>\n",
       "      <th>3</th>\n",
       "      <th>4</th>\n",
       "      <th>5</th>\n",
       "      <th>6</th>\n",
       "      <th>7</th>\n",
       "      <th>8</th>\n",
       "      <th>9</th>\n",
       "      <th>10</th>\n",
       "      <th>11</th>\n",
       "      <th>12</th>\n",
       "      <th>13</th>\n",
       "    </tr>\n",
       "  </thead>\n",
       "  <tbody>\n",
       "    <tr>\n",
       "      <th>166</th>\n",
       "      <td>52.0</td>\n",
       "      <td>1.0</td>\n",
       "      <td>3.0</td>\n",
       "      <td>138.0</td>\n",
       "      <td>223.0</td>\n",
       "      <td>0.0</td>\n",
       "      <td>0.0</td>\n",
       "      <td>169.0</td>\n",
       "      <td>0.0</td>\n",
       "      <td>0.0</td>\n",
       "      <td>1.0</td>\n",
       "      <td>?</td>\n",
       "      <td>3.0</td>\n",
       "      <td>0</td>\n",
       "    </tr>\n",
       "    <tr>\n",
       "      <th>192</th>\n",
       "      <td>43.0</td>\n",
       "      <td>1.0</td>\n",
       "      <td>4.0</td>\n",
       "      <td>132.0</td>\n",
       "      <td>247.0</td>\n",
       "      <td>1.0</td>\n",
       "      <td>2.0</td>\n",
       "      <td>143.0</td>\n",
       "      <td>1.0</td>\n",
       "      <td>0.1</td>\n",
       "      <td>2.0</td>\n",
       "      <td>?</td>\n",
       "      <td>7.0</td>\n",
       "      <td>1</td>\n",
       "    </tr>\n",
       "    <tr>\n",
       "      <th>287</th>\n",
       "      <td>58.0</td>\n",
       "      <td>1.0</td>\n",
       "      <td>2.0</td>\n",
       "      <td>125.0</td>\n",
       "      <td>220.0</td>\n",
       "      <td>0.0</td>\n",
       "      <td>0.0</td>\n",
       "      <td>144.0</td>\n",
       "      <td>0.0</td>\n",
       "      <td>0.4</td>\n",
       "      <td>2.0</td>\n",
       "      <td>?</td>\n",
       "      <td>7.0</td>\n",
       "      <td>0</td>\n",
       "    </tr>\n",
       "    <tr>\n",
       "      <th>302</th>\n",
       "      <td>38.0</td>\n",
       "      <td>1.0</td>\n",
       "      <td>3.0</td>\n",
       "      <td>138.0</td>\n",
       "      <td>175.0</td>\n",
       "      <td>0.0</td>\n",
       "      <td>0.0</td>\n",
       "      <td>173.0</td>\n",
       "      <td>0.0</td>\n",
       "      <td>0.0</td>\n",
       "      <td>1.0</td>\n",
       "      <td>?</td>\n",
       "      <td>3.0</td>\n",
       "      <td>0</td>\n",
       "    </tr>\n",
       "  </tbody>\n",
       "</table>\n",
       "</div>"
      ],
      "text/plain": [
       "       0    1    2      3      4    5    6      7    8    9    10 11   12  13\n",
       "166  52.0  1.0  3.0  138.0  223.0  0.0  0.0  169.0  0.0  0.0  1.0  ?  3.0   0\n",
       "192  43.0  1.0  4.0  132.0  247.0  1.0  2.0  143.0  1.0  0.1  2.0  ?  7.0   1\n",
       "287  58.0  1.0  2.0  125.0  220.0  0.0  0.0  144.0  0.0  0.4  2.0  ?  7.0   0\n",
       "302  38.0  1.0  3.0  138.0  175.0  0.0  0.0  173.0  0.0  0.0  1.0  ?  3.0   0"
      ]
     },
     "execution_count": 19,
     "metadata": {},
     "output_type": "execute_result"
    }
   ],
   "source": [
    "mask = heart[11] == '?'\n",
    "heart[mask]"
   ]
  },
  {
   "cell_type": "code",
   "execution_count": 22,
   "id": "dfd21539",
   "metadata": {
    "collapsed": true
   },
   "outputs": [
    {
     "data": {
      "text/plain": [
       "0         9.0\n",
       "1         9.0\n",
       "2         8.5\n",
       "3         8.5\n",
       "4         8.5\n",
       "         ... \n",
       "18620     7.6\n",
       "18621     9.0\n",
       "18622     5.8\n",
       "18623    10.0\n",
       "18624    10.0\n",
       "Name: score, Length: 18625, dtype: float64"
      ]
     },
     "execution_count": 22,
     "metadata": {},
     "output_type": "execute_result"
    }
   ],
   "source": [
    "score = ign['score']    # pick one column \n",
    "score"
   ]
  },
  {
   "cell_type": "code",
   "execution_count": 24,
   "id": "fdd6332a",
   "metadata": {
    "collapsed": true
   },
   "outputs": [
    {
     "data": {
      "text/plain": [
       "0        PlayStation Vita\n",
       "1        PlayStation Vita\n",
       "2                    iPad\n",
       "3                Xbox 360\n",
       "4           PlayStation 3\n",
       "               ...       \n",
       "18620               Wii U\n",
       "18621       PlayStation 4\n",
       "18622       PlayStation 4\n",
       "18623            Xbox One\n",
       "18624                  PC\n",
       "Name: platform, Length: 18625, dtype: object"
      ]
     },
     "execution_count": 24,
     "metadata": {},
     "output_type": "execute_result"
    }
   ],
   "source": [
    "platform = ign['platform']  # pick one column\n",
    "platform"
   ]
  },
  {
   "cell_type": "code",
   "execution_count": 26,
   "id": "85296c2a",
   "metadata": {
    "collapsed": true
   },
   "outputs": [
    {
     "data": {
      "text/plain": [
       "{'Android',\n",
       " 'Arcade',\n",
       " 'Atari 2600',\n",
       " 'Atari 5200',\n",
       " 'Commodore 64/128',\n",
       " 'DVD / HD Video Game',\n",
       " 'Dreamcast',\n",
       " 'Dreamcast VMU',\n",
       " 'Game Boy',\n",
       " 'Game Boy Advance',\n",
       " 'Game Boy Color',\n",
       " 'Game.Com',\n",
       " 'GameCube',\n",
       " 'Genesis',\n",
       " 'Linux',\n",
       " 'Lynx',\n",
       " 'Macintosh',\n",
       " 'Master System',\n",
       " 'N-Gage',\n",
       " 'NES',\n",
       " 'NeoGeo',\n",
       " 'NeoGeo Pocket Color',\n",
       " 'New Nintendo 3DS',\n",
       " 'Nintendo 3DS',\n",
       " 'Nintendo 64',\n",
       " 'Nintendo 64DD',\n",
       " 'Nintendo DS',\n",
       " 'Nintendo DSi',\n",
       " 'Ouya',\n",
       " 'PC',\n",
       " 'PlayStation',\n",
       " 'PlayStation 2',\n",
       " 'PlayStation 3',\n",
       " 'PlayStation 4',\n",
       " 'PlayStation Portable',\n",
       " 'PlayStation Vita',\n",
       " 'Pocket PC',\n",
       " 'Saturn',\n",
       " 'Sega 32X',\n",
       " 'Sega CD',\n",
       " 'SteamOS',\n",
       " 'Super NES',\n",
       " 'TurboGrafx-16',\n",
       " 'TurboGrafx-CD',\n",
       " 'Vectrex',\n",
       " 'Web Games',\n",
       " 'Wii',\n",
       " 'Wii U',\n",
       " 'Windows Phone',\n",
       " 'Windows Surface',\n",
       " 'Wireless',\n",
       " 'WonderSwan',\n",
       " 'WonderSwan Color',\n",
       " 'Xbox',\n",
       " 'Xbox 360',\n",
       " 'Xbox One',\n",
       " 'iPad',\n",
       " 'iPhone',\n",
       " 'iPod'}"
      ]
     },
     "execution_count": 26,
     "metadata": {},
     "output_type": "execute_result"
    }
   ],
   "source": [
    "set(platform)"
   ]
  },
  {
   "cell_type": "code",
   "execution_count": 27,
   "id": "3d8236a4",
   "metadata": {
    "collapsed": true
   },
   "outputs": [
    {
     "data": {
      "text/html": [
       "<div>\n",
       "<style scoped>\n",
       "    .dataframe tbody tr th:only-of-type {\n",
       "        vertical-align: middle;\n",
       "    }\n",
       "\n",
       "    .dataframe tbody tr th {\n",
       "        vertical-align: top;\n",
       "    }\n",
       "\n",
       "    .dataframe thead th {\n",
       "        text-align: right;\n",
       "    }\n",
       "</style>\n",
       "<table border=\"1\" class=\"dataframe\">\n",
       "  <thead>\n",
       "    <tr style=\"text-align: right;\">\n",
       "      <th></th>\n",
       "      <th>score</th>\n",
       "      <th>platform</th>\n",
       "    </tr>\n",
       "  </thead>\n",
       "  <tbody>\n",
       "    <tr>\n",
       "      <th>0</th>\n",
       "      <td>9.0</td>\n",
       "      <td>PlayStation Vita</td>\n",
       "    </tr>\n",
       "    <tr>\n",
       "      <th>1</th>\n",
       "      <td>9.0</td>\n",
       "      <td>PlayStation Vita</td>\n",
       "    </tr>\n",
       "    <tr>\n",
       "      <th>2</th>\n",
       "      <td>8.5</td>\n",
       "      <td>iPad</td>\n",
       "    </tr>\n",
       "    <tr>\n",
       "      <th>3</th>\n",
       "      <td>8.5</td>\n",
       "      <td>Xbox 360</td>\n",
       "    </tr>\n",
       "    <tr>\n",
       "      <th>4</th>\n",
       "      <td>8.5</td>\n",
       "      <td>PlayStation 3</td>\n",
       "    </tr>\n",
       "    <tr>\n",
       "      <th>...</th>\n",
       "      <td>...</td>\n",
       "      <td>...</td>\n",
       "    </tr>\n",
       "    <tr>\n",
       "      <th>18620</th>\n",
       "      <td>7.6</td>\n",
       "      <td>Wii U</td>\n",
       "    </tr>\n",
       "    <tr>\n",
       "      <th>18621</th>\n",
       "      <td>9.0</td>\n",
       "      <td>PlayStation 4</td>\n",
       "    </tr>\n",
       "    <tr>\n",
       "      <th>18622</th>\n",
       "      <td>5.8</td>\n",
       "      <td>PlayStation 4</td>\n",
       "    </tr>\n",
       "    <tr>\n",
       "      <th>18623</th>\n",
       "      <td>10.0</td>\n",
       "      <td>Xbox One</td>\n",
       "    </tr>\n",
       "    <tr>\n",
       "      <th>18624</th>\n",
       "      <td>10.0</td>\n",
       "      <td>PC</td>\n",
       "    </tr>\n",
       "  </tbody>\n",
       "</table>\n",
       "<p>18625 rows × 2 columns</p>\n",
       "</div>"
      ],
      "text/plain": [
       "       score          platform\n",
       "0        9.0  PlayStation Vita\n",
       "1        9.0  PlayStation Vita\n",
       "2        8.5              iPad\n",
       "3        8.5          Xbox 360\n",
       "4        8.5     PlayStation 3\n",
       "...      ...               ...\n",
       "18620    7.6             Wii U\n",
       "18621    9.0     PlayStation 4\n",
       "18622    5.8     PlayStation 4\n",
       "18623   10.0          Xbox One\n",
       "18624   10.0                PC\n",
       "\n",
       "[18625 rows x 2 columns]"
      ]
     },
     "execution_count": 27,
     "metadata": {},
     "output_type": "execute_result"
    }
   ],
   "source": [
    "two_columns = ign[ ['score', 'platform'] ]  # pick two columns\n",
    "two_columns"
   ]
  },
  {
   "cell_type": "markdown",
   "id": "b3f88d9a",
   "metadata": {},
   "source": [
    "A column or a row in pandas is called a Series\n",
    "A spreadsheet (can be more than 1 columns) is called a DataFrame"
   ]
  },
  {
   "cell_type": "code",
   "execution_count": 28,
   "id": "b17b00db",
   "metadata": {
    "collapsed": true
   },
   "outputs": [
    {
     "data": {
      "text/html": [
       "<div>\n",
       "<style scoped>\n",
       "    .dataframe tbody tr th:only-of-type {\n",
       "        vertical-align: middle;\n",
       "    }\n",
       "\n",
       "    .dataframe tbody tr th {\n",
       "        vertical-align: top;\n",
       "    }\n",
       "\n",
       "    .dataframe thead th {\n",
       "        text-align: right;\n",
       "    }\n",
       "</style>\n",
       "<table border=\"1\" class=\"dataframe\">\n",
       "  <thead>\n",
       "    <tr style=\"text-align: right;\">\n",
       "      <th></th>\n",
       "      <th>score</th>\n",
       "    </tr>\n",
       "  </thead>\n",
       "  <tbody>\n",
       "    <tr>\n",
       "      <th>0</th>\n",
       "      <td>9.0</td>\n",
       "    </tr>\n",
       "    <tr>\n",
       "      <th>1</th>\n",
       "      <td>9.0</td>\n",
       "    </tr>\n",
       "    <tr>\n",
       "      <th>2</th>\n",
       "      <td>8.5</td>\n",
       "    </tr>\n",
       "    <tr>\n",
       "      <th>3</th>\n",
       "      <td>8.5</td>\n",
       "    </tr>\n",
       "    <tr>\n",
       "      <th>4</th>\n",
       "      <td>8.5</td>\n",
       "    </tr>\n",
       "    <tr>\n",
       "      <th>...</th>\n",
       "      <td>...</td>\n",
       "    </tr>\n",
       "    <tr>\n",
       "      <th>18620</th>\n",
       "      <td>7.6</td>\n",
       "    </tr>\n",
       "    <tr>\n",
       "      <th>18621</th>\n",
       "      <td>9.0</td>\n",
       "    </tr>\n",
       "    <tr>\n",
       "      <th>18622</th>\n",
       "      <td>5.8</td>\n",
       "    </tr>\n",
       "    <tr>\n",
       "      <th>18623</th>\n",
       "      <td>10.0</td>\n",
       "    </tr>\n",
       "    <tr>\n",
       "      <th>18624</th>\n",
       "      <td>10.0</td>\n",
       "    </tr>\n",
       "  </tbody>\n",
       "</table>\n",
       "<p>18625 rows × 1 columns</p>\n",
       "</div>"
      ],
      "text/plain": [
       "       score\n",
       "0        9.0\n",
       "1        9.0\n",
       "2        8.5\n",
       "3        8.5\n",
       "4        8.5\n",
       "...      ...\n",
       "18620    7.6\n",
       "18621    9.0\n",
       "18622    5.8\n",
       "18623   10.0\n",
       "18624   10.0\n",
       "\n",
       "[18625 rows x 1 columns]"
      ]
     },
     "execution_count": 28,
     "metadata": {},
     "output_type": "execute_result"
    }
   ],
   "source": [
    "ign[['score']]  # is this a series or a dataframe?\n",
    "# this is a dataframe"
   ]
  },
  {
   "cell_type": "code",
   "execution_count": 29,
   "id": "294f1578",
   "metadata": {
    "collapsed": true
   },
   "outputs": [
    {
     "data": {
      "text/plain": [
       "0         9.0\n",
       "1         9.0\n",
       "2         8.5\n",
       "3         8.5\n",
       "4         8.5\n",
       "         ... \n",
       "18620     7.6\n",
       "18621     9.0\n",
       "18622     5.8\n",
       "18623    10.0\n",
       "18624    10.0\n",
       "Name: score, Length: 18625, dtype: float64"
      ]
     },
     "execution_count": 29,
     "metadata": {},
     "output_type": "execute_result"
    }
   ],
   "source": [
    "ign['score']  # this is a series"
   ]
  },
  {
   "cell_type": "code",
   "execution_count": 31,
   "id": "19667bba",
   "metadata": {},
   "outputs": [
    {
     "data": {
      "text/plain": [
       "numpy.ndarray"
      ]
     },
     "execution_count": 31,
     "metadata": {},
     "output_type": "execute_result"
    }
   ],
   "source": [
    "type(ign['score'].values)"
   ]
  },
  {
   "cell_type": "code",
   "execution_count": 32,
   "id": "b285dd83",
   "metadata": {},
   "outputs": [
    {
     "data": {
      "text/plain": [
       "array([ 9. ,  9. ,  8.5, ...,  5.8, 10. , 10. ])"
      ]
     },
     "execution_count": 32,
     "metadata": {},
     "output_type": "execute_result"
    }
   ],
   "source": [
    "ign['score'].values"
   ]
  },
  {
   "cell_type": "markdown",
   "id": "a2451faa",
   "metadata": {},
   "source": [
    "- changing the header\n",
    "- pick a particular row of data"
   ]
  },
  {
   "cell_type": "code",
   "execution_count": 34,
   "id": "47e0b289",
   "metadata": {
    "collapsed": true
   },
   "outputs": [
    {
     "data": {
      "text/html": [
       "<div>\n",
       "<style scoped>\n",
       "    .dataframe tbody tr th:only-of-type {\n",
       "        vertical-align: middle;\n",
       "    }\n",
       "\n",
       "    .dataframe tbody tr th {\n",
       "        vertical-align: top;\n",
       "    }\n",
       "\n",
       "    .dataframe thead th {\n",
       "        text-align: right;\n",
       "    }\n",
       "</style>\n",
       "<table border=\"1\" class=\"dataframe\">\n",
       "  <thead>\n",
       "    <tr style=\"text-align: right;\">\n",
       "      <th></th>\n",
       "      <th>0</th>\n",
       "      <th>1</th>\n",
       "      <th>2</th>\n",
       "      <th>3</th>\n",
       "    </tr>\n",
       "  </thead>\n",
       "  <tbody>\n",
       "    <tr>\n",
       "      <th>0</th>\n",
       "      <td>1</td>\n",
       "      <td>2</td>\n",
       "      <td>3</td>\n",
       "      <td>4</td>\n",
       "    </tr>\n",
       "    <tr>\n",
       "      <th>1</th>\n",
       "      <td>4</td>\n",
       "      <td>5</td>\n",
       "      <td>6</td>\n",
       "      <td>7</td>\n",
       "    </tr>\n",
       "  </tbody>\n",
       "</table>\n",
       "</div>"
      ],
      "text/plain": [
       "   0  1  2  3\n",
       "0  1  2  3  4\n",
       "1  4  5  6  7"
      ]
     },
     "execution_count": 34,
     "metadata": {},
     "output_type": "execute_result"
    }
   ],
   "source": [
    "data = [\n",
    "    [1,2,3,4],\n",
    "    [4,5,6,7]\n",
    "]\n",
    "data = pd.DataFrame(data)\n",
    "data"
   ]
  },
  {
   "cell_type": "code",
   "execution_count": 35,
   "id": "aad02ed6",
   "metadata": {},
   "outputs": [
    {
     "data": {
      "text/plain": [
       "RangeIndex(start=0, stop=4, step=1)"
      ]
     },
     "execution_count": 35,
     "metadata": {},
     "output_type": "execute_result"
    }
   ],
   "source": [
    "data.columns  # this is the header"
   ]
  },
  {
   "cell_type": "code",
   "execution_count": 36,
   "id": "f356917e",
   "metadata": {
    "collapsed": true
   },
   "outputs": [
    {
     "data": {
      "text/html": [
       "<div>\n",
       "<style scoped>\n",
       "    .dataframe tbody tr th:only-of-type {\n",
       "        vertical-align: middle;\n",
       "    }\n",
       "\n",
       "    .dataframe tbody tr th {\n",
       "        vertical-align: top;\n",
       "    }\n",
       "\n",
       "    .dataframe thead th {\n",
       "        text-align: right;\n",
       "    }\n",
       "</style>\n",
       "<table border=\"1\" class=\"dataframe\">\n",
       "  <thead>\n",
       "    <tr style=\"text-align: right;\">\n",
       "      <th></th>\n",
       "      <th>x1</th>\n",
       "      <th>x2</th>\n",
       "      <th>x3</th>\n",
       "      <th>x4</th>\n",
       "    </tr>\n",
       "  </thead>\n",
       "  <tbody>\n",
       "    <tr>\n",
       "      <th>0</th>\n",
       "      <td>1</td>\n",
       "      <td>2</td>\n",
       "      <td>3</td>\n",
       "      <td>4</td>\n",
       "    </tr>\n",
       "    <tr>\n",
       "      <th>1</th>\n",
       "      <td>4</td>\n",
       "      <td>5</td>\n",
       "      <td>6</td>\n",
       "      <td>7</td>\n",
       "    </tr>\n",
       "  </tbody>\n",
       "</table>\n",
       "</div>"
      ],
      "text/plain": [
       "   x1  x2  x3  x4\n",
       "0   1   2   3   4\n",
       "1   4   5   6   7"
      ]
     },
     "execution_count": 36,
     "metadata": {},
     "output_type": "execute_result"
    }
   ],
   "source": [
    "data.columns = ['x1','x2','x3', 'x4']\n",
    "data"
   ]
  },
  {
   "cell_type": "code",
   "execution_count": 37,
   "id": "20cfda5f",
   "metadata": {},
   "outputs": [
    {
     "data": {
      "text/plain": [
       "Index(['x1', 'x2', 'x3', 'x4'], dtype='object')"
      ]
     },
     "execution_count": 37,
     "metadata": {},
     "output_type": "execute_result"
    }
   ],
   "source": [
    "data.columns"
   ]
  },
  {
   "cell_type": "code",
   "execution_count": 38,
   "id": "b826d4fa",
   "metadata": {},
   "outputs": [
    {
     "data": {
      "text/html": [
       "<div>\n",
       "<style scoped>\n",
       "    .dataframe tbody tr th:only-of-type {\n",
       "        vertical-align: middle;\n",
       "    }\n",
       "\n",
       "    .dataframe tbody tr th {\n",
       "        vertical-align: top;\n",
       "    }\n",
       "\n",
       "    .dataframe thead th {\n",
       "        text-align: right;\n",
       "    }\n",
       "</style>\n",
       "<table border=\"1\" class=\"dataframe\">\n",
       "  <thead>\n",
       "    <tr style=\"text-align: right;\">\n",
       "      <th></th>\n",
       "      <th>x1</th>\n",
       "      <th>x2</th>\n",
       "      <th>x3</th>\n",
       "      <th>x4</th>\n",
       "    </tr>\n",
       "  </thead>\n",
       "  <tbody>\n",
       "    <tr>\n",
       "      <th>0</th>\n",
       "      <td>1</td>\n",
       "      <td>2</td>\n",
       "      <td>3</td>\n",
       "      <td>4</td>\n",
       "    </tr>\n",
       "    <tr>\n",
       "      <th>1</th>\n",
       "      <td>4</td>\n",
       "      <td>5</td>\n",
       "      <td>6</td>\n",
       "      <td>7</td>\n",
       "    </tr>\n",
       "  </tbody>\n",
       "</table>\n",
       "</div>"
      ],
      "text/plain": [
       "   x1  x2  x3  x4\n",
       "0   1   2   3   4\n",
       "1   4   5   6   7"
      ]
     },
     "execution_count": 38,
     "metadata": {},
     "output_type": "execute_result"
    }
   ],
   "source": [
    "data = [\n",
    "    [1,2,3,4],\n",
    "    [4,5,6,7]\n",
    "]\n",
    "data = pd.DataFrame(data, columns=['x1','x2','x3', 'x4'])\n",
    "data"
   ]
  },
  {
   "cell_type": "markdown",
   "id": "7eb6b098",
   "metadata": {},
   "source": [
    "Two ways to pick a row\n",
    "\n",
    "- by index - iloc[]\n",
    "- by name - loc[]"
   ]
  },
  {
   "cell_type": "code",
   "execution_count": 39,
   "id": "aa0edf6e",
   "metadata": {
    "collapsed": true
   },
   "outputs": [
    {
     "data": {
      "text/plain": [
       "x1    1\n",
       "x2    2\n",
       "x3    3\n",
       "x4    4\n",
       "Name: 0, dtype: int64"
      ]
     },
     "execution_count": 39,
     "metadata": {},
     "output_type": "execute_result"
    }
   ],
   "source": [
    "data.iloc[0]   # a row is a Series"
   ]
  },
  {
   "cell_type": "code",
   "execution_count": 40,
   "id": "71aca1d0",
   "metadata": {
    "collapsed": true
   },
   "outputs": [
    {
     "data": {
      "text/plain": [
       "x1    4\n",
       "x2    5\n",
       "x3    6\n",
       "x4    7\n",
       "Name: 1, dtype: int64"
      ]
     },
     "execution_count": 40,
     "metadata": {},
     "output_type": "execute_result"
    }
   ],
   "source": [
    "data.loc[1]   # by name"
   ]
  },
  {
   "cell_type": "code",
   "execution_count": 42,
   "id": "cadfe1c0",
   "metadata": {},
   "outputs": [
    {
     "data": {
      "text/html": [
       "<div>\n",
       "<style scoped>\n",
       "    .dataframe tbody tr th:only-of-type {\n",
       "        vertical-align: middle;\n",
       "    }\n",
       "\n",
       "    .dataframe tbody tr th {\n",
       "        vertical-align: top;\n",
       "    }\n",
       "\n",
       "    .dataframe thead th {\n",
       "        text-align: right;\n",
       "    }\n",
       "</style>\n",
       "<table border=\"1\" class=\"dataframe\">\n",
       "  <thead>\n",
       "    <tr style=\"text-align: right;\">\n",
       "      <th></th>\n",
       "      <th>Name</th>\n",
       "      <th>Marks</th>\n",
       "    </tr>\n",
       "  </thead>\n",
       "  <tbody>\n",
       "    <tr>\n",
       "      <th>one</th>\n",
       "      <td>Harry</td>\n",
       "      <td>78</td>\n",
       "    </tr>\n",
       "    <tr>\n",
       "      <th>two</th>\n",
       "      <td>Ron</td>\n",
       "      <td>83</td>\n",
       "    </tr>\n",
       "    <tr>\n",
       "      <th>three</th>\n",
       "      <td>Hermione</td>\n",
       "      <td>94</td>\n",
       "    </tr>\n",
       "  </tbody>\n",
       "</table>\n",
       "</div>"
      ],
      "text/plain": [
       "           Name  Marks\n",
       "one       Harry     78\n",
       "two         Ron     83\n",
       "three  Hermione     94"
      ]
     },
     "execution_count": 42,
     "metadata": {},
     "output_type": "execute_result"
    }
   ],
   "source": [
    "data = {\n",
    "    'Name': ['Harry', 'Ron', 'Hermione'],\n",
    "    'Marks': [78,83,94]\n",
    "}\n",
    "data = pd.DataFrame(data, index=['one', 'two', 'three'])\n",
    "data"
   ]
  },
  {
   "cell_type": "code",
   "execution_count": 43,
   "id": "54e207d7",
   "metadata": {},
   "outputs": [
    {
     "data": {
      "text/plain": [
       "Name     Hermione\n",
       "Marks          94\n",
       "Name: three, dtype: object"
      ]
     },
     "execution_count": 43,
     "metadata": {},
     "output_type": "execute_result"
    }
   ],
   "source": [
    "data.loc['three']"
   ]
  },
  {
   "cell_type": "code",
   "execution_count": 44,
   "id": "f5692a61",
   "metadata": {},
   "outputs": [
    {
     "data": {
      "text/plain": [
       "Name     Hermione\n",
       "Marks          94\n",
       "Name: three, dtype: object"
      ]
     },
     "execution_count": 44,
     "metadata": {},
     "output_type": "execute_result"
    }
   ],
   "source": [
    "data.iloc[2]"
   ]
  },
  {
   "cell_type": "code",
   "execution_count": 46,
   "id": "95970e92",
   "metadata": {},
   "outputs": [
    {
     "data": {
      "text/html": [
       "<div>\n",
       "<style scoped>\n",
       "    .dataframe tbody tr th:only-of-type {\n",
       "        vertical-align: middle;\n",
       "    }\n",
       "\n",
       "    .dataframe tbody tr th {\n",
       "        vertical-align: top;\n",
       "    }\n",
       "\n",
       "    .dataframe thead th {\n",
       "        text-align: right;\n",
       "    }\n",
       "</style>\n",
       "<table border=\"1\" class=\"dataframe\">\n",
       "  <thead>\n",
       "    <tr style=\"text-align: right;\">\n",
       "      <th></th>\n",
       "      <th>Name</th>\n",
       "      <th>Marks</th>\n",
       "    </tr>\n",
       "  </thead>\n",
       "  <tbody>\n",
       "    <tr>\n",
       "      <th>one</th>\n",
       "      <td>Harry</td>\n",
       "      <td>78</td>\n",
       "    </tr>\n",
       "    <tr>\n",
       "      <th>two</th>\n",
       "      <td>Ron</td>\n",
       "      <td>83</td>\n",
       "    </tr>\n",
       "    <tr>\n",
       "      <th>three</th>\n",
       "      <td>Hermione</td>\n",
       "      <td>94</td>\n",
       "    </tr>\n",
       "  </tbody>\n",
       "</table>\n",
       "</div>"
      ],
      "text/plain": [
       "           Name  Marks\n",
       "one       Harry     78\n",
       "two         Ron     83\n",
       "three  Hermione     94"
      ]
     },
     "execution_count": 46,
     "metadata": {},
     "output_type": "execute_result"
    }
   ],
   "source": [
    "# pick a cell\n",
    "data"
   ]
  },
  {
   "cell_type": "code",
   "execution_count": 47,
   "id": "58fac98f",
   "metadata": {},
   "outputs": [
    {
     "data": {
      "text/plain": [
       "83"
      ]
     },
     "execution_count": 47,
     "metadata": {},
     "output_type": "execute_result"
    }
   ],
   "source": [
    "data.loc['two']['Marks']"
   ]
  },
  {
   "cell_type": "markdown",
   "id": "10211c83",
   "metadata": {},
   "source": [
    "shortcut name for the column"
   ]
  },
  {
   "cell_type": "code",
   "execution_count": 50,
   "id": "9197a4e2",
   "metadata": {},
   "outputs": [
    {
     "data": {
      "text/plain": [
       "0         9.0\n",
       "1         9.0\n",
       "2         8.5\n",
       "3         8.5\n",
       "4         8.5\n",
       "         ... \n",
       "18620     7.6\n",
       "18621     9.0\n",
       "18622     5.8\n",
       "18623    10.0\n",
       "18624    10.0\n",
       "Name: score, Length: 18625, dtype: float64"
      ]
     },
     "execution_count": 50,
     "metadata": {},
     "output_type": "execute_result"
    }
   ],
   "source": [
    "ign['score']\n",
    "ign.score   # this will not work if the header name has more than one word, like ign['My Review']"
   ]
  },
  {
   "cell_type": "code",
   "execution_count": 51,
   "id": "1b8b7f9a",
   "metadata": {},
   "outputs": [
    {
     "data": {
      "text/plain": [
       "83"
      ]
     },
     "execution_count": 51,
     "metadata": {},
     "output_type": "execute_result"
    }
   ],
   "source": [
    "row = data.loc['two']\n",
    "row.Marks"
   ]
  },
  {
   "cell_type": "markdown",
   "id": "d1bd033f",
   "metadata": {},
   "source": [
    "Adding new column into a dataframe"
   ]
  },
  {
   "cell_type": "code",
   "execution_count": 54,
   "id": "47bd3ad2",
   "metadata": {},
   "outputs": [
    {
     "data": {
      "text/html": [
       "<div>\n",
       "<style scoped>\n",
       "    .dataframe tbody tr th:only-of-type {\n",
       "        vertical-align: middle;\n",
       "    }\n",
       "\n",
       "    .dataframe tbody tr th {\n",
       "        vertical-align: top;\n",
       "    }\n",
       "\n",
       "    .dataframe thead th {\n",
       "        text-align: right;\n",
       "    }\n",
       "</style>\n",
       "<table border=\"1\" class=\"dataframe\">\n",
       "  <thead>\n",
       "    <tr style=\"text-align: right;\">\n",
       "      <th></th>\n",
       "      <th>Name</th>\n",
       "      <th>Marks</th>\n",
       "      <th>Grade</th>\n",
       "    </tr>\n",
       "  </thead>\n",
       "  <tbody>\n",
       "    <tr>\n",
       "      <th>one</th>\n",
       "      <td>Harry</td>\n",
       "      <td>78</td>\n",
       "      <td>A-</td>\n",
       "    </tr>\n",
       "    <tr>\n",
       "      <th>two</th>\n",
       "      <td>Ron</td>\n",
       "      <td>83</td>\n",
       "      <td>A</td>\n",
       "    </tr>\n",
       "    <tr>\n",
       "      <th>three</th>\n",
       "      <td>Hermione</td>\n",
       "      <td>94</td>\n",
       "      <td>A+</td>\n",
       "    </tr>\n",
       "  </tbody>\n",
       "</table>\n",
       "</div>"
      ],
      "text/plain": [
       "           Name  Marks Grade\n",
       "one       Harry     78    A-\n",
       "two         Ron     83     A\n",
       "three  Hermione     94    A+"
      ]
     },
     "execution_count": 54,
     "metadata": {},
     "output_type": "execute_result"
    }
   ],
   "source": [
    "new_column = ['A-', 'A', 'A+']\n",
    "data['Grade'] = new_column\n",
    "data"
   ]
  },
  {
   "cell_type": "code",
   "execution_count": 56,
   "id": "a44da1fc",
   "metadata": {},
   "outputs": [
    {
     "data": {
      "text/html": [
       "<div>\n",
       "<style scoped>\n",
       "    .dataframe tbody tr th:only-of-type {\n",
       "        vertical-align: middle;\n",
       "    }\n",
       "\n",
       "    .dataframe tbody tr th {\n",
       "        vertical-align: top;\n",
       "    }\n",
       "\n",
       "    .dataframe thead th {\n",
       "        text-align: right;\n",
       "    }\n",
       "</style>\n",
       "<table border=\"1\" class=\"dataframe\">\n",
       "  <thead>\n",
       "    <tr style=\"text-align: right;\">\n",
       "      <th></th>\n",
       "      <th>Name</th>\n",
       "      <th>Marks</th>\n",
       "      <th>Grade</th>\n",
       "      <th>Marks_sq</th>\n",
       "    </tr>\n",
       "  </thead>\n",
       "  <tbody>\n",
       "    <tr>\n",
       "      <th>one</th>\n",
       "      <td>Harry</td>\n",
       "      <td>78</td>\n",
       "      <td>A-</td>\n",
       "      <td>6084</td>\n",
       "    </tr>\n",
       "    <tr>\n",
       "      <th>two</th>\n",
       "      <td>Ron</td>\n",
       "      <td>83</td>\n",
       "      <td>A</td>\n",
       "      <td>6889</td>\n",
       "    </tr>\n",
       "    <tr>\n",
       "      <th>three</th>\n",
       "      <td>Hermione</td>\n",
       "      <td>94</td>\n",
       "      <td>A+</td>\n",
       "      <td>8836</td>\n",
       "    </tr>\n",
       "  </tbody>\n",
       "</table>\n",
       "</div>"
      ],
      "text/plain": [
       "           Name  Marks Grade  Marks_sq\n",
       "one       Harry     78    A-      6084\n",
       "two         Ron     83     A      6889\n",
       "three  Hermione     94    A+      8836"
      ]
     },
     "execution_count": 56,
     "metadata": {},
     "output_type": "execute_result"
    }
   ],
   "source": [
    "data['Marks_sq'] = data.Marks **2\n",
    "data"
   ]
  },
  {
   "cell_type": "code",
   "execution_count": 57,
   "id": "a50a0c52",
   "metadata": {},
   "outputs": [
    {
     "name": "stdout",
     "output_type": "stream",
     "text": [
      "Name\n",
      "Marks\n",
      "Grade\n",
      "Marks_sq\n"
     ]
    }
   ],
   "source": [
    "for item in data:\n",
    "    print(item)"
   ]
  },
  {
   "cell_type": "code",
   "execution_count": 59,
   "id": "4d63bfa8",
   "metadata": {},
   "outputs": [
    {
     "name": "stdout",
     "output_type": "stream",
     "text": [
      "one Harry 78\n",
      "two Ron 83\n",
      "three Hermione 94\n"
     ]
    }
   ],
   "source": [
    "# not encourage to loop through a dataframe, this is slow\n",
    "for n, row in data.iterrows():\n",
    "    print(n, row.Name, row.Marks)"
   ]
  },
  {
   "cell_type": "markdown",
   "id": "3f96c6a5",
   "metadata": {},
   "source": [
    "# Grouping\n",
    "\n",
    "- this is the group by operation in SQL"
   ]
  },
  {
   "cell_type": "code",
   "execution_count": 63,
   "id": "d05eb0c5",
   "metadata": {},
   "outputs": [
    {
     "data": {
      "text/plain": [
       "<pandas.core.groupby.generic.DataFrameGroupBy object at 0x00000191BD18C340>"
      ]
     },
     "execution_count": 63,
     "metadata": {},
     "output_type": "execute_result"
    }
   ],
   "source": [
    "by_platform = ign.groupby('platform')\n",
    "by_platform"
   ]
  },
  {
   "cell_type": "code",
   "execution_count": 65,
   "id": "257e97d5",
   "metadata": {},
   "outputs": [
    {
     "data": {
      "text/plain": [
       "pandas.io.formats.printing.PrettyDict"
      ]
     },
     "execution_count": 65,
     "metadata": {},
     "output_type": "execute_result"
    }
   ],
   "source": [
    "type(by_platform.groups)   # this gives a dict"
   ]
  },
  {
   "cell_type": "code",
   "execution_count": 66,
   "id": "ace5c2b8",
   "metadata": {
    "collapsed": true
   },
   "outputs": [
    {
     "data": {
      "text/plain": [
       "dict_keys(['Android', 'Arcade', 'Atari 2600', 'Atari 5200', 'Commodore 64/128', 'DVD / HD Video Game', 'Dreamcast', 'Dreamcast VMU', 'Game Boy', 'Game Boy Advance', 'Game Boy Color', 'Game.Com', 'GameCube', 'Genesis', 'Linux', 'Lynx', 'Macintosh', 'Master System', 'N-Gage', 'NES', 'NeoGeo', 'NeoGeo Pocket Color', 'New Nintendo 3DS', 'Nintendo 3DS', 'Nintendo 64', 'Nintendo 64DD', 'Nintendo DS', 'Nintendo DSi', 'Ouya', 'PC', 'PlayStation', 'PlayStation 2', 'PlayStation 3', 'PlayStation 4', 'PlayStation Portable', 'PlayStation Vita', 'Pocket PC', 'Saturn', 'Sega 32X', 'Sega CD', 'SteamOS', 'Super NES', 'TurboGrafx-16', 'TurboGrafx-CD', 'Vectrex', 'Web Games', 'Wii', 'Wii U', 'Windows Phone', 'Windows Surface', 'Wireless', 'WonderSwan', 'WonderSwan Color', 'Xbox', 'Xbox 360', 'Xbox One', 'iPad', 'iPhone', 'iPod'])"
      ]
     },
     "execution_count": 66,
     "metadata": {},
     "output_type": "execute_result"
    }
   ],
   "source": [
    "by_platform.groups.keys()"
   ]
  },
  {
   "cell_type": "code",
   "execution_count": 67,
   "id": "667cdabb",
   "metadata": {
    "collapsed": true
   },
   "outputs": [
    {
     "data": {
      "text/plain": [
       "Int64Index([3365, 3425, 3426, 3427, 3432, 3435, 3440, 3441, 3443, 3444,\n",
       "            ...\n",
       "            8577, 8624, 8675, 8680, 8684, 8710, 8718, 8960, 9514, 9636],\n",
       "           dtype='int64', length=821)"
      ]
     },
     "execution_count": 67,
     "metadata": {},
     "output_type": "execute_result"
    }
   ],
   "source": [
    "xbox = by_platform.groups['Xbox']\n",
    "xbox"
   ]
  },
  {
   "cell_type": "code",
   "execution_count": 69,
   "id": "3db8c91d",
   "metadata": {
    "collapsed": true
   },
   "outputs": [
    {
     "data": {
      "text/html": [
       "<div>\n",
       "<style scoped>\n",
       "    .dataframe tbody tr th:only-of-type {\n",
       "        vertical-align: middle;\n",
       "    }\n",
       "\n",
       "    .dataframe tbody tr th {\n",
       "        vertical-align: top;\n",
       "    }\n",
       "\n",
       "    .dataframe thead th {\n",
       "        text-align: right;\n",
       "    }\n",
       "</style>\n",
       "<table border=\"1\" class=\"dataframe\">\n",
       "  <thead>\n",
       "    <tr style=\"text-align: right;\">\n",
       "      <th></th>\n",
       "      <th>Unnamed: 0</th>\n",
       "      <th>score_phrase</th>\n",
       "      <th>title</th>\n",
       "      <th>url</th>\n",
       "      <th>platform</th>\n",
       "      <th>score</th>\n",
       "      <th>genre</th>\n",
       "      <th>editors_choice</th>\n",
       "      <th>release_year</th>\n",
       "      <th>release_month</th>\n",
       "      <th>release_day</th>\n",
       "    </tr>\n",
       "  </thead>\n",
       "  <tbody>\n",
       "    <tr>\n",
       "      <th>3365</th>\n",
       "      <td>3365</td>\n",
       "      <td>Okay</td>\n",
       "      <td>Cel Damage</td>\n",
       "      <td>/games/cel-damage/xbox-16499</td>\n",
       "      <td>Xbox</td>\n",
       "      <td>6.5</td>\n",
       "      <td>Action</td>\n",
       "      <td>N</td>\n",
       "      <td>2001</td>\n",
       "      <td>11</td>\n",
       "      <td>6</td>\n",
       "    </tr>\n",
       "    <tr>\n",
       "      <th>3425</th>\n",
       "      <td>3425</td>\n",
       "      <td>Amazing</td>\n",
       "      <td>Dead or Alive 3</td>\n",
       "      <td>/games/dead-or-alive-3/xbox-16249</td>\n",
       "      <td>Xbox</td>\n",
       "      <td>9.4</td>\n",
       "      <td>Fighting</td>\n",
       "      <td>Y</td>\n",
       "      <td>2001</td>\n",
       "      <td>11</td>\n",
       "      <td>12</td>\n",
       "    </tr>\n",
       "    <tr>\n",
       "      <th>3426</th>\n",
       "      <td>3426</td>\n",
       "      <td>Okay</td>\n",
       "      <td>Dave Mirra Freestyle BMX 2</td>\n",
       "      <td>/games/dave-mirra-freestyle-bmx-2/xbox-16740</td>\n",
       "      <td>Xbox</td>\n",
       "      <td>6.9</td>\n",
       "      <td>Sports</td>\n",
       "      <td>N</td>\n",
       "      <td>2001</td>\n",
       "      <td>11</td>\n",
       "      <td>12</td>\n",
       "    </tr>\n",
       "    <tr>\n",
       "      <th>3427</th>\n",
       "      <td>3427</td>\n",
       "      <td>Good</td>\n",
       "      <td>4x4 Evo 2</td>\n",
       "      <td>/games/4x4-evo-2/xbox-16045</td>\n",
       "      <td>Xbox</td>\n",
       "      <td>7.1</td>\n",
       "      <td>Racing</td>\n",
       "      <td>N</td>\n",
       "      <td>2001</td>\n",
       "      <td>11</td>\n",
       "      <td>12</td>\n",
       "    </tr>\n",
       "    <tr>\n",
       "      <th>3432</th>\n",
       "      <td>3432</td>\n",
       "      <td>Good</td>\n",
       "      <td>NFL Fever 2002</td>\n",
       "      <td>/games/microsoft-nfl-fever-2002/xbox-16186</td>\n",
       "      <td>Xbox</td>\n",
       "      <td>7.9</td>\n",
       "      <td>Sports</td>\n",
       "      <td>N</td>\n",
       "      <td>2001</td>\n",
       "      <td>11</td>\n",
       "      <td>12</td>\n",
       "    </tr>\n",
       "    <tr>\n",
       "      <th>...</th>\n",
       "      <td>...</td>\n",
       "      <td>...</td>\n",
       "      <td>...</td>\n",
       "      <td>...</td>\n",
       "      <td>...</td>\n",
       "      <td>...</td>\n",
       "      <td>...</td>\n",
       "      <td>...</td>\n",
       "      <td>...</td>\n",
       "      <td>...</td>\n",
       "      <td>...</td>\n",
       "    </tr>\n",
       "    <tr>\n",
       "      <th>8710</th>\n",
       "      <td>8710</td>\n",
       "      <td>Mediocre</td>\n",
       "      <td>Superman Returns: The Videogame</td>\n",
       "      <td>/games/superman-returns/xbox-690984</td>\n",
       "      <td>Xbox</td>\n",
       "      <td>5.0</td>\n",
       "      <td>Action</td>\n",
       "      <td>N</td>\n",
       "      <td>2006</td>\n",
       "      <td>11</td>\n",
       "      <td>27</td>\n",
       "    </tr>\n",
       "    <tr>\n",
       "      <th>8718</th>\n",
       "      <td>8718</td>\n",
       "      <td>Bad</td>\n",
       "      <td>World Racing 2</td>\n",
       "      <td>/games/world-racing-2/xbox-707173</td>\n",
       "      <td>Xbox</td>\n",
       "      <td>4.5</td>\n",
       "      <td>Racing</td>\n",
       "      <td>N</td>\n",
       "      <td>2006</td>\n",
       "      <td>12</td>\n",
       "      <td>4</td>\n",
       "    </tr>\n",
       "    <tr>\n",
       "      <th>8960</th>\n",
       "      <td>8960</td>\n",
       "      <td>Good</td>\n",
       "      <td>Major League Baseball 2K7</td>\n",
       "      <td>/games/major-league-baseball-2k7/xbox-858987</td>\n",
       "      <td>Xbox</td>\n",
       "      <td>7.0</td>\n",
       "      <td>Sports</td>\n",
       "      <td>N</td>\n",
       "      <td>2007</td>\n",
       "      <td>2</td>\n",
       "      <td>27</td>\n",
       "    </tr>\n",
       "    <tr>\n",
       "      <th>9514</th>\n",
       "      <td>9514</td>\n",
       "      <td>Great</td>\n",
       "      <td>NCAA Football 08</td>\n",
       "      <td>/games/ncaa-football-08/xbox-890438</td>\n",
       "      <td>Xbox</td>\n",
       "      <td>8.1</td>\n",
       "      <td>Sports</td>\n",
       "      <td>N</td>\n",
       "      <td>2007</td>\n",
       "      <td>7</td>\n",
       "      <td>17</td>\n",
       "    </tr>\n",
       "    <tr>\n",
       "      <th>9636</th>\n",
       "      <td>9636</td>\n",
       "      <td>Good</td>\n",
       "      <td>Madden NFL 08</td>\n",
       "      <td>/games/madden-nfl-2008/xbox-868498</td>\n",
       "      <td>Xbox</td>\n",
       "      <td>7.9</td>\n",
       "      <td>Sports</td>\n",
       "      <td>N</td>\n",
       "      <td>2007</td>\n",
       "      <td>8</td>\n",
       "      <td>14</td>\n",
       "    </tr>\n",
       "  </tbody>\n",
       "</table>\n",
       "<p>821 rows × 11 columns</p>\n",
       "</div>"
      ],
      "text/plain": [
       "      Unnamed: 0 score_phrase                            title  \\\n",
       "3365        3365         Okay                       Cel Damage   \n",
       "3425        3425      Amazing                  Dead or Alive 3   \n",
       "3426        3426         Okay       Dave Mirra Freestyle BMX 2   \n",
       "3427        3427         Good                        4x4 Evo 2   \n",
       "3432        3432         Good                   NFL Fever 2002   \n",
       "...          ...          ...                              ...   \n",
       "8710        8710     Mediocre  Superman Returns: The Videogame   \n",
       "8718        8718          Bad                   World Racing 2   \n",
       "8960        8960         Good        Major League Baseball 2K7   \n",
       "9514        9514        Great                 NCAA Football 08   \n",
       "9636        9636         Good                    Madden NFL 08   \n",
       "\n",
       "                                               url platform  score     genre  \\\n",
       "3365                  /games/cel-damage/xbox-16499     Xbox    6.5    Action   \n",
       "3425             /games/dead-or-alive-3/xbox-16249     Xbox    9.4  Fighting   \n",
       "3426  /games/dave-mirra-freestyle-bmx-2/xbox-16740     Xbox    6.9    Sports   \n",
       "3427                   /games/4x4-evo-2/xbox-16045     Xbox    7.1    Racing   \n",
       "3432    /games/microsoft-nfl-fever-2002/xbox-16186     Xbox    7.9    Sports   \n",
       "...                                            ...      ...    ...       ...   \n",
       "8710           /games/superman-returns/xbox-690984     Xbox    5.0    Action   \n",
       "8718             /games/world-racing-2/xbox-707173     Xbox    4.5    Racing   \n",
       "8960  /games/major-league-baseball-2k7/xbox-858987     Xbox    7.0    Sports   \n",
       "9514           /games/ncaa-football-08/xbox-890438     Xbox    8.1    Sports   \n",
       "9636            /games/madden-nfl-2008/xbox-868498     Xbox    7.9    Sports   \n",
       "\n",
       "     editors_choice  release_year  release_month  release_day  \n",
       "3365              N          2001             11            6  \n",
       "3425              Y          2001             11           12  \n",
       "3426              N          2001             11           12  \n",
       "3427              N          2001             11           12  \n",
       "3432              N          2001             11           12  \n",
       "...             ...           ...            ...          ...  \n",
       "8710              N          2006             11           27  \n",
       "8718              N          2006             12            4  \n",
       "8960              N          2007              2           27  \n",
       "9514              N          2007              7           17  \n",
       "9636              N          2007              8           14  \n",
       "\n",
       "[821 rows x 11 columns]"
      ]
     },
     "execution_count": 69,
     "metadata": {},
     "output_type": "execute_result"
    }
   ],
   "source": [
    "ign.iloc[xbox]"
   ]
  },
  {
   "cell_type": "code",
   "execution_count": 72,
   "id": "3fe0e62c",
   "metadata": {},
   "outputs": [
    {
     "data": {
      "text/plain": [
       "7.205602923264311"
      ]
     },
     "execution_count": 72,
     "metadata": {},
     "output_type": "execute_result"
    }
   ],
   "source": [
    "ign.iloc[xbox].score.mean()"
   ]
  },
  {
   "cell_type": "code",
   "execution_count": 76,
   "id": "51619be1",
   "metadata": {
    "collapsed": true
   },
   "outputs": [
    {
     "name": "stdout",
     "output_type": "stream",
     "text": [
      "Platform: Android                   7.55\n",
      "Platform: Arcade                    6.04\n",
      "Platform: Atari 2600                5.90\n",
      "Platform: Atari 5200                8.00\n",
      "Platform: Commodore 64/128          6.42\n",
      "Platform: DVD / HD Video Game       1.00\n",
      "Platform: Dreamcast                 7.37\n",
      "Platform: Dreamcast VMU             3.00\n",
      "Platform: Game Boy                  7.81\n",
      "Platform: Game Boy Advance          6.63\n",
      "Platform: Game Boy Color            6.19\n",
      "Platform: Game.Com                  5.33\n",
      "Platform: GameCube                  7.04\n",
      "Platform: Genesis                   6.55\n",
      "Platform: Linux                     7.61\n",
      "Platform: Lynx                      7.13\n",
      "Platform: Macintosh                 8.12\n",
      "Platform: Master System             6.77\n",
      "Platform: N-Gage                    6.73\n",
      "Platform: NES                       6.61\n",
      "Platform: NeoGeo                    6.50\n",
      "Platform: NeoGeo Pocket Color       7.32\n",
      "Platform: New Nintendo 3DS          7.75\n",
      "Platform: Nintendo 3DS              7.32\n",
      "Platform: Nintendo 64               6.98\n",
      "Platform: Nintendo 64DD             6.63\n",
      "Platform: Nintendo DS               6.29\n",
      "Platform: Nintendo DSi              6.38\n",
      "Platform: Ouya                      8.00\n",
      "Platform: PC                        7.15\n",
      "Platform: PlayStation               6.58\n",
      "Platform: PlayStation 2             6.87\n",
      "Platform: PlayStation 3             7.19\n",
      "Platform: PlayStation 4             7.66\n",
      "Platform: PlayStation Portable      6.75\n",
      "Platform: PlayStation Vita          7.39\n",
      "Platform: Pocket PC                 8.50\n",
      "Platform: Saturn                    7.28\n",
      "Platform: Sega 32X                  5.45\n",
      "Platform: Sega CD                   7.00\n",
      "Platform: SteamOS                   8.90\n",
      "Platform: Super NES                 7.73\n",
      "Platform: TurboGrafx-16             6.58\n",
      "Platform: TurboGrafx-CD             8.00\n",
      "Platform: Vectrex                   6.25\n",
      "Platform: Web Games                 8.00\n",
      "Platform: Wii                       6.30\n",
      "Platform: Wii U                     7.47\n",
      "Platform: Windows Phone             6.76\n",
      "Platform: Windows Surface           6.70\n",
      "Platform: Wireless                  7.18\n",
      "Platform: WonderSwan                6.50\n",
      "Platform: WonderSwan Color          8.60\n",
      "Platform: Xbox                      7.21\n",
      "Platform: Xbox 360                  7.11\n",
      "Platform: Xbox One                  7.66\n",
      "Platform: iPad                      7.67\n",
      "Platform: iPhone                    7.29\n",
      "Platform: iPod                      6.96\n"
     ]
    }
   ],
   "source": [
    "result = []\n",
    "for key in by_platform.groups:\n",
    "    group = by_platform.groups[key]\n",
    "    average_score = ign.iloc[group].score.mean()\n",
    "    result.append([key, average_score])\n",
    "    print(f\"Platform: {key:25s} {average_score:.2f}\")"
   ]
  },
  {
   "cell_type": "code",
   "execution_count": 79,
   "id": "17bd9453",
   "metadata": {
    "collapsed": true
   },
   "outputs": [
    {
     "name": "stdout",
     "output_type": "stream",
     "text": [
      "Platform: SteamOS                   8.90\n",
      "Platform: WonderSwan Color          8.60\n",
      "Platform: Pocket PC                 8.50\n",
      "Platform: Macintosh                 8.12\n",
      "Platform: Atari 5200                8.00\n",
      "Platform: Ouya                      8.00\n",
      "Platform: TurboGrafx-CD             8.00\n",
      "Platform: Web Games                 8.00\n",
      "Platform: Game Boy                  7.81\n",
      "Platform: New Nintendo 3DS          7.75\n",
      "Platform: Super NES                 7.73\n",
      "Platform: iPad                      7.67\n",
      "Platform: PlayStation 4             7.66\n",
      "Platform: Xbox One                  7.66\n",
      "Platform: Linux                     7.61\n",
      "Platform: Android                   7.55\n",
      "Platform: Wii U                     7.47\n",
      "Platform: PlayStation Vita          7.39\n",
      "Platform: Dreamcast                 7.37\n",
      "Platform: NeoGeo Pocket Color       7.32\n",
      "Platform: Nintendo 3DS              7.32\n",
      "Platform: iPhone                    7.29\n",
      "Platform: Saturn                    7.28\n",
      "Platform: Xbox                      7.21\n",
      "Platform: PlayStation 3             7.19\n",
      "Platform: Wireless                  7.18\n",
      "Platform: PC                        7.15\n",
      "Platform: Lynx                      7.13\n",
      "Platform: Xbox 360                  7.11\n",
      "Platform: GameCube                  7.04\n",
      "Platform: Sega CD                   7.00\n",
      "Platform: Nintendo 64               6.98\n",
      "Platform: iPod                      6.96\n",
      "Platform: PlayStation 2             6.87\n",
      "Platform: Master System             6.77\n",
      "Platform: Windows Phone             6.76\n",
      "Platform: PlayStation Portable      6.75\n",
      "Platform: N-Gage                    6.73\n",
      "Platform: Windows Surface           6.70\n",
      "Platform: Nintendo 64DD             6.63\n",
      "Platform: Game Boy Advance          6.63\n",
      "Platform: NES                       6.61\n",
      "Platform: TurboGrafx-16             6.58\n",
      "Platform: PlayStation               6.58\n",
      "Platform: Genesis                   6.55\n",
      "Platform: NeoGeo                    6.50\n",
      "Platform: WonderSwan                6.50\n",
      "Platform: Commodore 64/128          6.42\n",
      "Platform: Nintendo DSi              6.38\n",
      "Platform: Wii                       6.30\n",
      "Platform: Nintendo DS               6.29\n",
      "Platform: Vectrex                   6.25\n",
      "Platform: Game Boy Color            6.19\n",
      "Platform: Arcade                    6.04\n",
      "Platform: Atari 2600                5.90\n",
      "Platform: Sega 32X                  5.45\n",
      "Platform: Game.Com                  5.33\n",
      "Platform: Dreamcast VMU             3.00\n",
      "Platform: DVD / HD Video Game       1.00\n"
     ]
    }
   ],
   "source": [
    "sorted_result = sorted(result, key=lambda x:x[1], reverse=True)\n",
    "for key, score_av in sorted_result:\n",
    "    print(f\"Platform: {key:25s} {score_av:.2f}\")"
   ]
  },
  {
   "cell_type": "code",
   "execution_count": 80,
   "id": "3dd3883c",
   "metadata": {},
   "outputs": [
    {
     "data": {
      "text/html": [
       "<div>\n",
       "<style scoped>\n",
       "    .dataframe tbody tr th:only-of-type {\n",
       "        vertical-align: middle;\n",
       "    }\n",
       "\n",
       "    .dataframe tbody tr th {\n",
       "        vertical-align: top;\n",
       "    }\n",
       "\n",
       "    .dataframe thead th {\n",
       "        text-align: right;\n",
       "    }\n",
       "</style>\n",
       "<table border=\"1\" class=\"dataframe\">\n",
       "  <thead>\n",
       "    <tr style=\"text-align: right;\">\n",
       "      <th></th>\n",
       "      <th>Unnamed: 0</th>\n",
       "      <th>score</th>\n",
       "      <th>release_year</th>\n",
       "      <th>release_month</th>\n",
       "      <th>release_day</th>\n",
       "    </tr>\n",
       "  </thead>\n",
       "  <tbody>\n",
       "    <tr>\n",
       "      <th>count</th>\n",
       "      <td>18625.000000</td>\n",
       "      <td>18625.000000</td>\n",
       "      <td>18625.000000</td>\n",
       "      <td>18625.00000</td>\n",
       "      <td>18625.000000</td>\n",
       "    </tr>\n",
       "    <tr>\n",
       "      <th>mean</th>\n",
       "      <td>9312.000000</td>\n",
       "      <td>6.950459</td>\n",
       "      <td>2006.515329</td>\n",
       "      <td>7.13847</td>\n",
       "      <td>15.603866</td>\n",
       "    </tr>\n",
       "    <tr>\n",
       "      <th>std</th>\n",
       "      <td>5376.718717</td>\n",
       "      <td>1.711736</td>\n",
       "      <td>4.587529</td>\n",
       "      <td>3.47671</td>\n",
       "      <td>8.690128</td>\n",
       "    </tr>\n",
       "    <tr>\n",
       "      <th>min</th>\n",
       "      <td>0.000000</td>\n",
       "      <td>0.500000</td>\n",
       "      <td>1970.000000</td>\n",
       "      <td>1.00000</td>\n",
       "      <td>1.000000</td>\n",
       "    </tr>\n",
       "    <tr>\n",
       "      <th>25%</th>\n",
       "      <td>4656.000000</td>\n",
       "      <td>6.000000</td>\n",
       "      <td>2003.000000</td>\n",
       "      <td>4.00000</td>\n",
       "      <td>8.000000</td>\n",
       "    </tr>\n",
       "    <tr>\n",
       "      <th>50%</th>\n",
       "      <td>9312.000000</td>\n",
       "      <td>7.300000</td>\n",
       "      <td>2007.000000</td>\n",
       "      <td>8.00000</td>\n",
       "      <td>16.000000</td>\n",
       "    </tr>\n",
       "    <tr>\n",
       "      <th>75%</th>\n",
       "      <td>13968.000000</td>\n",
       "      <td>8.200000</td>\n",
       "      <td>2010.000000</td>\n",
       "      <td>10.00000</td>\n",
       "      <td>23.000000</td>\n",
       "    </tr>\n",
       "    <tr>\n",
       "      <th>max</th>\n",
       "      <td>18624.000000</td>\n",
       "      <td>10.000000</td>\n",
       "      <td>2016.000000</td>\n",
       "      <td>12.00000</td>\n",
       "      <td>31.000000</td>\n",
       "    </tr>\n",
       "  </tbody>\n",
       "</table>\n",
       "</div>"
      ],
      "text/plain": [
       "         Unnamed: 0         score  release_year  release_month   release_day\n",
       "count  18625.000000  18625.000000  18625.000000    18625.00000  18625.000000\n",
       "mean    9312.000000      6.950459   2006.515329        7.13847     15.603866\n",
       "std     5376.718717      1.711736      4.587529        3.47671      8.690128\n",
       "min        0.000000      0.500000   1970.000000        1.00000      1.000000\n",
       "25%     4656.000000      6.000000   2003.000000        4.00000      8.000000\n",
       "50%     9312.000000      7.300000   2007.000000        8.00000     16.000000\n",
       "75%    13968.000000      8.200000   2010.000000       10.00000     23.000000\n",
       "max    18624.000000     10.000000   2016.000000       12.00000     31.000000"
      ]
     },
     "execution_count": 80,
     "metadata": {},
     "output_type": "execute_result"
    }
   ],
   "source": [
    "ign.describe()"
   ]
  },
  {
   "cell_type": "code",
   "execution_count": 82,
   "id": "d593b33e",
   "metadata": {
    "collapsed": true
   },
   "outputs": [
    {
     "data": {
      "text/plain": [
       "Unnamed: 0                                    730\n",
       "score_phrase                              Amazing\n",
       "title                           Final Fantasy VII\n",
       "url               /games/final-fantasy-vii/ps-494\n",
       "platform                              PlayStation\n",
       "score                                         9.5\n",
       "genre                                         RPG\n",
       "editors_choice                                  Y\n",
       "release_year                                 1997\n",
       "release_month                                   9\n",
       "release_day                                     3\n",
       "Name: 730, dtype: object"
      ]
     },
     "execution_count": 82,
     "metadata": {},
     "output_type": "execute_result"
    }
   ],
   "source": [
    "ign.iloc[730]"
   ]
  },
  {
   "cell_type": "code",
   "execution_count": 83,
   "id": "a7ad590a",
   "metadata": {
    "collapsed": true
   },
   "outputs": [
    {
     "data": {
      "text/plain": [
       "Unnamed: 0                                    730\n",
       "score_phrase                              Amazing\n",
       "title                           Final Fantasy VII\n",
       "url               /games/final-fantasy-vii/ps-494\n",
       "platform                              PlayStation\n",
       "score                                         9.5\n",
       "genre                                         RPG\n",
       "editors_choice                                  Y\n",
       "release_year                                 1997\n",
       "release_month                                   9\n",
       "release_day                                     3\n",
       "Name: 730, dtype: object"
      ]
     },
     "execution_count": 83,
     "metadata": {},
     "output_type": "execute_result"
    }
   ],
   "source": [
    "ign.loc[730]"
   ]
  },
  {
   "cell_type": "code",
   "execution_count": 86,
   "id": "5d1045b2",
   "metadata": {
    "collapsed": true
   },
   "outputs": [
    {
     "data": {
      "text/plain": [
       "Unnamed: 0                                3365\n",
       "score_phrase                              Okay\n",
       "title                               Cel Damage\n",
       "url               /games/cel-damage/xbox-16499\n",
       "platform                                  Xbox\n",
       "score                                      6.5\n",
       "genre                                   Action\n",
       "editors_choice                               N\n",
       "release_year                              2001\n",
       "release_month                               11\n",
       "release_day                                  6\n",
       "Name: 3365, dtype: object"
      ]
     },
     "execution_count": 86,
     "metadata": {},
     "output_type": "execute_result"
    }
   ],
   "source": [
    "ign.iloc[xbox].iloc[0]"
   ]
  },
  {
   "cell_type": "code",
   "execution_count": 87,
   "id": "cf46b36f",
   "metadata": {
    "collapsed": true
   },
   "outputs": [
    {
     "ename": "KeyError",
     "evalue": "0",
     "output_type": "error",
     "traceback": [
      "\u001b[1;31m---------------------------------------------------------------------------\u001b[0m",
      "\u001b[1;31mKeyError\u001b[0m                                  Traceback (most recent call last)",
      "File \u001b[1;32m~\\anaconda3\\lib\\site-packages\\pandas\\core\\indexes\\base.py:3802\u001b[0m, in \u001b[0;36mIndex.get_loc\u001b[1;34m(self, key, method, tolerance)\u001b[0m\n\u001b[0;32m   3801\u001b[0m \u001b[38;5;28;01mtry\u001b[39;00m:\n\u001b[1;32m-> 3802\u001b[0m     \u001b[38;5;28;01mreturn\u001b[39;00m \u001b[38;5;28;43mself\u001b[39;49m\u001b[38;5;241;43m.\u001b[39;49m\u001b[43m_engine\u001b[49m\u001b[38;5;241;43m.\u001b[39;49m\u001b[43mget_loc\u001b[49m\u001b[43m(\u001b[49m\u001b[43mcasted_key\u001b[49m\u001b[43m)\u001b[49m\n\u001b[0;32m   3803\u001b[0m \u001b[38;5;28;01mexcept\u001b[39;00m \u001b[38;5;167;01mKeyError\u001b[39;00m \u001b[38;5;28;01mas\u001b[39;00m err:\n",
      "File \u001b[1;32m~\\anaconda3\\lib\\site-packages\\pandas\\_libs\\index.pyx:138\u001b[0m, in \u001b[0;36mpandas._libs.index.IndexEngine.get_loc\u001b[1;34m()\u001b[0m\n",
      "File \u001b[1;32m~\\anaconda3\\lib\\site-packages\\pandas\\_libs\\index.pyx:165\u001b[0m, in \u001b[0;36mpandas._libs.index.IndexEngine.get_loc\u001b[1;34m()\u001b[0m\n",
      "File \u001b[1;32mpandas\\_libs\\hashtable_class_helper.pxi:2263\u001b[0m, in \u001b[0;36mpandas._libs.hashtable.Int64HashTable.get_item\u001b[1;34m()\u001b[0m\n",
      "File \u001b[1;32mpandas\\_libs\\hashtable_class_helper.pxi:2273\u001b[0m, in \u001b[0;36mpandas._libs.hashtable.Int64HashTable.get_item\u001b[1;34m()\u001b[0m\n",
      "\u001b[1;31mKeyError\u001b[0m: 0",
      "\nThe above exception was the direct cause of the following exception:\n",
      "\u001b[1;31mKeyError\u001b[0m                                  Traceback (most recent call last)",
      "Cell \u001b[1;32mIn[87], line 1\u001b[0m\n\u001b[1;32m----> 1\u001b[0m \u001b[43mign\u001b[49m\u001b[38;5;241;43m.\u001b[39;49m\u001b[43miloc\u001b[49m\u001b[43m[\u001b[49m\u001b[43mxbox\u001b[49m\u001b[43m]\u001b[49m\u001b[38;5;241;43m.\u001b[39;49m\u001b[43mloc\u001b[49m\u001b[43m[\u001b[49m\u001b[38;5;241;43m0\u001b[39;49m\u001b[43m]\u001b[49m\n",
      "File \u001b[1;32m~\\anaconda3\\lib\\site-packages\\pandas\\core\\indexing.py:1073\u001b[0m, in \u001b[0;36m_LocationIndexer.__getitem__\u001b[1;34m(self, key)\u001b[0m\n\u001b[0;32m   1070\u001b[0m axis \u001b[38;5;241m=\u001b[39m \u001b[38;5;28mself\u001b[39m\u001b[38;5;241m.\u001b[39maxis \u001b[38;5;129;01mor\u001b[39;00m \u001b[38;5;241m0\u001b[39m\n\u001b[0;32m   1072\u001b[0m maybe_callable \u001b[38;5;241m=\u001b[39m com\u001b[38;5;241m.\u001b[39mapply_if_callable(key, \u001b[38;5;28mself\u001b[39m\u001b[38;5;241m.\u001b[39mobj)\n\u001b[1;32m-> 1073\u001b[0m \u001b[38;5;28;01mreturn\u001b[39;00m \u001b[38;5;28;43mself\u001b[39;49m\u001b[38;5;241;43m.\u001b[39;49m\u001b[43m_getitem_axis\u001b[49m\u001b[43m(\u001b[49m\u001b[43mmaybe_callable\u001b[49m\u001b[43m,\u001b[49m\u001b[43m \u001b[49m\u001b[43maxis\u001b[49m\u001b[38;5;241;43m=\u001b[39;49m\u001b[43maxis\u001b[49m\u001b[43m)\u001b[49m\n",
      "File \u001b[1;32m~\\anaconda3\\lib\\site-packages\\pandas\\core\\indexing.py:1312\u001b[0m, in \u001b[0;36m_LocIndexer._getitem_axis\u001b[1;34m(self, key, axis)\u001b[0m\n\u001b[0;32m   1310\u001b[0m \u001b[38;5;66;03m# fall thru to straight lookup\u001b[39;00m\n\u001b[0;32m   1311\u001b[0m \u001b[38;5;28mself\u001b[39m\u001b[38;5;241m.\u001b[39m_validate_key(key, axis)\n\u001b[1;32m-> 1312\u001b[0m \u001b[38;5;28;01mreturn\u001b[39;00m \u001b[38;5;28;43mself\u001b[39;49m\u001b[38;5;241;43m.\u001b[39;49m\u001b[43m_get_label\u001b[49m\u001b[43m(\u001b[49m\u001b[43mkey\u001b[49m\u001b[43m,\u001b[49m\u001b[43m \u001b[49m\u001b[43maxis\u001b[49m\u001b[38;5;241;43m=\u001b[39;49m\u001b[43maxis\u001b[49m\u001b[43m)\u001b[49m\n",
      "File \u001b[1;32m~\\anaconda3\\lib\\site-packages\\pandas\\core\\indexing.py:1260\u001b[0m, in \u001b[0;36m_LocIndexer._get_label\u001b[1;34m(self, label, axis)\u001b[0m\n\u001b[0;32m   1258\u001b[0m \u001b[38;5;28;01mdef\u001b[39;00m \u001b[38;5;21m_get_label\u001b[39m(\u001b[38;5;28mself\u001b[39m, label, axis: \u001b[38;5;28mint\u001b[39m):\n\u001b[0;32m   1259\u001b[0m     \u001b[38;5;66;03m# GH#5567 this will fail if the label is not present in the axis.\u001b[39;00m\n\u001b[1;32m-> 1260\u001b[0m     \u001b[38;5;28;01mreturn\u001b[39;00m \u001b[38;5;28;43mself\u001b[39;49m\u001b[38;5;241;43m.\u001b[39;49m\u001b[43mobj\u001b[49m\u001b[38;5;241;43m.\u001b[39;49m\u001b[43mxs\u001b[49m\u001b[43m(\u001b[49m\u001b[43mlabel\u001b[49m\u001b[43m,\u001b[49m\u001b[43m \u001b[49m\u001b[43maxis\u001b[49m\u001b[38;5;241;43m=\u001b[39;49m\u001b[43maxis\u001b[49m\u001b[43m)\u001b[49m\n",
      "File \u001b[1;32m~\\anaconda3\\lib\\site-packages\\pandas\\core\\generic.py:4056\u001b[0m, in \u001b[0;36mNDFrame.xs\u001b[1;34m(self, key, axis, level, drop_level)\u001b[0m\n\u001b[0;32m   4054\u001b[0m             new_index \u001b[38;5;241m=\u001b[39m index[loc]\n\u001b[0;32m   4055\u001b[0m \u001b[38;5;28;01melse\u001b[39;00m:\n\u001b[1;32m-> 4056\u001b[0m     loc \u001b[38;5;241m=\u001b[39m \u001b[43mindex\u001b[49m\u001b[38;5;241;43m.\u001b[39;49m\u001b[43mget_loc\u001b[49m\u001b[43m(\u001b[49m\u001b[43mkey\u001b[49m\u001b[43m)\u001b[49m\n\u001b[0;32m   4058\u001b[0m     \u001b[38;5;28;01mif\u001b[39;00m \u001b[38;5;28misinstance\u001b[39m(loc, np\u001b[38;5;241m.\u001b[39mndarray):\n\u001b[0;32m   4059\u001b[0m         \u001b[38;5;28;01mif\u001b[39;00m loc\u001b[38;5;241m.\u001b[39mdtype \u001b[38;5;241m==\u001b[39m np\u001b[38;5;241m.\u001b[39mbool_:\n",
      "File \u001b[1;32m~\\anaconda3\\lib\\site-packages\\pandas\\core\\indexes\\base.py:3804\u001b[0m, in \u001b[0;36mIndex.get_loc\u001b[1;34m(self, key, method, tolerance)\u001b[0m\n\u001b[0;32m   3802\u001b[0m     \u001b[38;5;28;01mreturn\u001b[39;00m \u001b[38;5;28mself\u001b[39m\u001b[38;5;241m.\u001b[39m_engine\u001b[38;5;241m.\u001b[39mget_loc(casted_key)\n\u001b[0;32m   3803\u001b[0m \u001b[38;5;28;01mexcept\u001b[39;00m \u001b[38;5;167;01mKeyError\u001b[39;00m \u001b[38;5;28;01mas\u001b[39;00m err:\n\u001b[1;32m-> 3804\u001b[0m     \u001b[38;5;28;01mraise\u001b[39;00m \u001b[38;5;167;01mKeyError\u001b[39;00m(key) \u001b[38;5;28;01mfrom\u001b[39;00m \u001b[38;5;21;01merr\u001b[39;00m\n\u001b[0;32m   3805\u001b[0m \u001b[38;5;28;01mexcept\u001b[39;00m \u001b[38;5;167;01mTypeError\u001b[39;00m:\n\u001b[0;32m   3806\u001b[0m     \u001b[38;5;66;03m# If we have a listlike key, _check_indexing_error will raise\u001b[39;00m\n\u001b[0;32m   3807\u001b[0m     \u001b[38;5;66;03m#  InvalidIndexError. Otherwise we fall through and re-raise\u001b[39;00m\n\u001b[0;32m   3808\u001b[0m     \u001b[38;5;66;03m#  the TypeError.\u001b[39;00m\n\u001b[0;32m   3809\u001b[0m     \u001b[38;5;28mself\u001b[39m\u001b[38;5;241m.\u001b[39m_check_indexing_error(key)\n",
      "\u001b[1;31mKeyError\u001b[0m: 0"
     ]
    }
   ],
   "source": [
    "ign.iloc[xbox].loc[0]"
   ]
  },
  {
   "cell_type": "markdown",
   "id": "c16501f9",
   "metadata": {},
   "source": [
    "# Encoding data"
   ]
  },
  {
   "cell_type": "code",
   "execution_count": 89,
   "id": "d7718a89",
   "metadata": {},
   "outputs": [
    {
     "name": "stdout",
     "output_type": "stream",
     "text": [
      "[2, 2, 1, 2, 3, 3, 2]\n"
     ]
    }
   ],
   "source": [
    "ordinal = ['adult', 'adult', 'kid','adult', 'elderly', 'elderly','adult']\n",
    "mapping = {'toddler':0, 'kid':1, 'adult':2, 'elderly':3}\n",
    "\n",
    "encoded_ordinal = [mapping[item] for item in ordinal]\n",
    "print(encoded_ordinal)"
   ]
  },
  {
   "cell_type": "code",
   "execution_count": 90,
   "id": "47826939",
   "metadata": {},
   "outputs": [
    {
     "data": {
      "text/html": [
       "<div>\n",
       "<style scoped>\n",
       "    .dataframe tbody tr th:only-of-type {\n",
       "        vertical-align: middle;\n",
       "    }\n",
       "\n",
       "    .dataframe tbody tr th {\n",
       "        vertical-align: top;\n",
       "    }\n",
       "\n",
       "    .dataframe thead th {\n",
       "        text-align: right;\n",
       "    }\n",
       "</style>\n",
       "<table border=\"1\" class=\"dataframe\">\n",
       "  <thead>\n",
       "    <tr style=\"text-align: right;\">\n",
       "      <th></th>\n",
       "      <th>black</th>\n",
       "      <th>gray</th>\n",
       "      <th>silver</th>\n",
       "      <th>white</th>\n",
       "    </tr>\n",
       "  </thead>\n",
       "  <tbody>\n",
       "    <tr>\n",
       "      <th>0</th>\n",
       "      <td>0</td>\n",
       "      <td>0</td>\n",
       "      <td>0</td>\n",
       "      <td>1</td>\n",
       "    </tr>\n",
       "    <tr>\n",
       "      <th>1</th>\n",
       "      <td>0</td>\n",
       "      <td>0</td>\n",
       "      <td>1</td>\n",
       "      <td>0</td>\n",
       "    </tr>\n",
       "    <tr>\n",
       "      <th>2</th>\n",
       "      <td>0</td>\n",
       "      <td>0</td>\n",
       "      <td>0</td>\n",
       "      <td>1</td>\n",
       "    </tr>\n",
       "    <tr>\n",
       "      <th>3</th>\n",
       "      <td>0</td>\n",
       "      <td>1</td>\n",
       "      <td>0</td>\n",
       "      <td>0</td>\n",
       "    </tr>\n",
       "    <tr>\n",
       "      <th>4</th>\n",
       "      <td>1</td>\n",
       "      <td>0</td>\n",
       "      <td>0</td>\n",
       "      <td>0</td>\n",
       "    </tr>\n",
       "    <tr>\n",
       "      <th>5</th>\n",
       "      <td>1</td>\n",
       "      <td>0</td>\n",
       "      <td>0</td>\n",
       "      <td>0</td>\n",
       "    </tr>\n",
       "    <tr>\n",
       "      <th>6</th>\n",
       "      <td>0</td>\n",
       "      <td>1</td>\n",
       "      <td>0</td>\n",
       "      <td>0</td>\n",
       "    </tr>\n",
       "    <tr>\n",
       "      <th>7</th>\n",
       "      <td>0</td>\n",
       "      <td>0</td>\n",
       "      <td>0</td>\n",
       "      <td>1</td>\n",
       "    </tr>\n",
       "  </tbody>\n",
       "</table>\n",
       "</div>"
      ],
      "text/plain": [
       "   black  gray  silver  white\n",
       "0      0     0       0      1\n",
       "1      0     0       1      0\n",
       "2      0     0       0      1\n",
       "3      0     1       0      0\n",
       "4      1     0       0      0\n",
       "5      1     0       0      0\n",
       "6      0     1       0      0\n",
       "7      0     0       0      1"
      ]
     },
     "execution_count": 90,
     "metadata": {},
     "output_type": "execute_result"
    }
   ],
   "source": [
    "nominal =['white','silver','white', 'gray','black', 'black', 'gray','white']\n",
    "pd.get_dummies(nominal)"
   ]
  },
  {
   "cell_type": "code",
   "execution_count": null,
   "id": "b50029fd",
   "metadata": {},
   "outputs": [],
   "source": []
  }
 ],
 "metadata": {
  "kernelspec": {
   "display_name": "Python 3 (ipykernel)",
   "language": "python",
   "name": "python3"
  },
  "language_info": {
   "codemirror_mode": {
    "name": "ipython",
    "version": 3
   },
   "file_extension": ".py",
   "mimetype": "text/x-python",
   "name": "python",
   "nbconvert_exporter": "python",
   "pygments_lexer": "ipython3",
   "version": "3.10.9"
  }
 },
 "nbformat": 4,
 "nbformat_minor": 5
}
